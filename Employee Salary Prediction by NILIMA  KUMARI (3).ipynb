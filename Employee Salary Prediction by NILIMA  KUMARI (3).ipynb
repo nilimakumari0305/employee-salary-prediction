{
 "cells": [
  {
   "cell_type": "code",
   "execution_count": 23,
   "id": "a78c99ac-67a6-4551-9928-bfe9501c542a",
   "metadata": {},
   "outputs": [],
   "source": [
    "from sklearn.linear_model import LinearRegression\n",
    "from sklearn.preprocessing import StandardScaler\n",
    "import joblib\n",
    "import pandas as pd\n",
    "import numpy as np\n",
    "import matplotlib.pyplot as plt\n",
    "import seaborn as sns"
   ]
  },
  {
   "cell_type": "code",
   "execution_count": 7,
   "id": "1d82fe57-9301-49b5-b4ef-95b382c2d1a1",
   "metadata": {},
   "outputs": [
    {
     "data": {
      "text/html": [
       "<div>\n",
       "<style scoped>\n",
       "    .dataframe tbody tr th:only-of-type {\n",
       "        vertical-align: middle;\n",
       "    }\n",
       "\n",
       "    .dataframe tbody tr th {\n",
       "        vertical-align: top;\n",
       "    }\n",
       "\n",
       "    .dataframe thead th {\n",
       "        text-align: right;\n",
       "    }\n",
       "</style>\n",
       "<table border=\"1\" class=\"dataframe\">\n",
       "  <thead>\n",
       "    <tr style=\"text-align: right;\">\n",
       "      <th></th>\n",
       "      <th>Age</th>\n",
       "      <th>Gender</th>\n",
       "      <th>Education Level</th>\n",
       "      <th>Job Title</th>\n",
       "      <th>Years of Experience</th>\n",
       "      <th>Salary</th>\n",
       "    </tr>\n",
       "  </thead>\n",
       "  <tbody>\n",
       "    <tr>\n",
       "      <th>0</th>\n",
       "      <td>32.0</td>\n",
       "      <td>Male</td>\n",
       "      <td>Bachelor's</td>\n",
       "      <td>Software Engineer</td>\n",
       "      <td>5.0</td>\n",
       "      <td>90000.0</td>\n",
       "    </tr>\n",
       "    <tr>\n",
       "      <th>1</th>\n",
       "      <td>28.0</td>\n",
       "      <td>Female</td>\n",
       "      <td>Master's</td>\n",
       "      <td>Data Analyst</td>\n",
       "      <td>3.0</td>\n",
       "      <td>65000.0</td>\n",
       "    </tr>\n",
       "    <tr>\n",
       "      <th>2</th>\n",
       "      <td>45.0</td>\n",
       "      <td>Male</td>\n",
       "      <td>PhD</td>\n",
       "      <td>Senior Manager</td>\n",
       "      <td>15.0</td>\n",
       "      <td>150000.0</td>\n",
       "    </tr>\n",
       "    <tr>\n",
       "      <th>3</th>\n",
       "      <td>36.0</td>\n",
       "      <td>Female</td>\n",
       "      <td>Bachelor's</td>\n",
       "      <td>Sales Associate</td>\n",
       "      <td>7.0</td>\n",
       "      <td>60000.0</td>\n",
       "    </tr>\n",
       "    <tr>\n",
       "      <th>4</th>\n",
       "      <td>52.0</td>\n",
       "      <td>Male</td>\n",
       "      <td>Master's</td>\n",
       "      <td>Director</td>\n",
       "      <td>20.0</td>\n",
       "      <td>200000.0</td>\n",
       "    </tr>\n",
       "  </tbody>\n",
       "</table>\n",
       "</div>"
      ],
      "text/plain": [
       "    Age  Gender Education Level          Job Title  Years of Experience  \\\n",
       "0  32.0    Male      Bachelor's  Software Engineer                  5.0   \n",
       "1  28.0  Female        Master's       Data Analyst                  3.0   \n",
       "2  45.0    Male             PhD     Senior Manager                 15.0   \n",
       "3  36.0  Female      Bachelor's    Sales Associate                  7.0   \n",
       "4  52.0    Male        Master's           Director                 20.0   \n",
       "\n",
       "     Salary  \n",
       "0   90000.0  \n",
       "1   65000.0  \n",
       "2  150000.0  \n",
       "3   60000.0  \n",
       "4  200000.0  "
      ]
     },
     "execution_count": 7,
     "metadata": {},
     "output_type": "execute_result"
    }
   ],
   "source": [
    "sal_data = pd.read_csv(r\"C:\\Users\\ASUS\\OneDrive\\Desktop\\Dataset09-Employee-salary-prediction.csv\")\n",
    "sal_data.head()"
   ]
  },
  {
   "cell_type": "code",
   "execution_count": 8,
   "id": "a5e64773-4174-466f-85c3-cf54dfcbd072",
   "metadata": {},
   "outputs": [
    {
     "data": {
      "text/plain": [
       "(375, 6)"
      ]
     },
     "execution_count": 8,
     "metadata": {},
     "output_type": "execute_result"
    }
   ],
   "source": [
    "sal_data.shape"
   ]
  },
  {
   "cell_type": "code",
   "execution_count": 10,
   "id": "0f6485af-e62c-44b5-ab6a-79ca894c1534",
   "metadata": {},
   "outputs": [
    {
     "data": {
      "text/plain": [
       "Index(['Age', 'Gender', 'Degree', 'Job_Title', 'Experience_years', 'Salary'], dtype='object')"
      ]
     },
     "execution_count": 10,
     "metadata": {},
     "output_type": "execute_result"
    }
   ],
   "source": [
    "sal_data.columns"
   ]
  },
  {
   "cell_type": "code",
   "execution_count": 11,
   "id": "562427e4-040f-42a2-93db-d69c081648cb",
   "metadata": {},
   "outputs": [],
   "source": [
    "sal_data.columns = ['Age','Gender','Degree','Job_Title','Experience_years','Salary']"
   ]
  },
  {
   "cell_type": "code",
   "execution_count": 12,
   "id": "00a3d170-0a3f-487c-a217-6b2f40c35648",
   "metadata": {},
   "outputs": [
    {
     "data": {
      "text/html": [
       "<div>\n",
       "<style scoped>\n",
       "    .dataframe tbody tr th:only-of-type {\n",
       "        vertical-align: middle;\n",
       "    }\n",
       "\n",
       "    .dataframe tbody tr th {\n",
       "        vertical-align: top;\n",
       "    }\n",
       "\n",
       "    .dataframe thead th {\n",
       "        text-align: right;\n",
       "    }\n",
       "</style>\n",
       "<table border=\"1\" class=\"dataframe\">\n",
       "  <thead>\n",
       "    <tr style=\"text-align: right;\">\n",
       "      <th></th>\n",
       "      <th>Age</th>\n",
       "      <th>Gender</th>\n",
       "      <th>Degree</th>\n",
       "      <th>Job_Title</th>\n",
       "      <th>Experience_years</th>\n",
       "      <th>Salary</th>\n",
       "    </tr>\n",
       "  </thead>\n",
       "  <tbody>\n",
       "    <tr>\n",
       "      <th>0</th>\n",
       "      <td>32.0</td>\n",
       "      <td>Male</td>\n",
       "      <td>Bachelor's</td>\n",
       "      <td>Software Engineer</td>\n",
       "      <td>5.0</td>\n",
       "      <td>90000.0</td>\n",
       "    </tr>\n",
       "    <tr>\n",
       "      <th>1</th>\n",
       "      <td>28.0</td>\n",
       "      <td>Female</td>\n",
       "      <td>Master's</td>\n",
       "      <td>Data Analyst</td>\n",
       "      <td>3.0</td>\n",
       "      <td>65000.0</td>\n",
       "    </tr>\n",
       "    <tr>\n",
       "      <th>2</th>\n",
       "      <td>45.0</td>\n",
       "      <td>Male</td>\n",
       "      <td>PhD</td>\n",
       "      <td>Senior Manager</td>\n",
       "      <td>15.0</td>\n",
       "      <td>150000.0</td>\n",
       "    </tr>\n",
       "    <tr>\n",
       "      <th>3</th>\n",
       "      <td>36.0</td>\n",
       "      <td>Female</td>\n",
       "      <td>Bachelor's</td>\n",
       "      <td>Sales Associate</td>\n",
       "      <td>7.0</td>\n",
       "      <td>60000.0</td>\n",
       "    </tr>\n",
       "    <tr>\n",
       "      <th>4</th>\n",
       "      <td>52.0</td>\n",
       "      <td>Male</td>\n",
       "      <td>Master's</td>\n",
       "      <td>Director</td>\n",
       "      <td>20.0</td>\n",
       "      <td>200000.0</td>\n",
       "    </tr>\n",
       "  </tbody>\n",
       "</table>\n",
       "</div>"
      ],
      "text/plain": [
       "    Age  Gender      Degree          Job_Title  Experience_years    Salary\n",
       "0  32.0    Male  Bachelor's  Software Engineer               5.0   90000.0\n",
       "1  28.0  Female    Master's       Data Analyst               3.0   65000.0\n",
       "2  45.0    Male         PhD     Senior Manager              15.0  150000.0\n",
       "3  36.0  Female  Bachelor's    Sales Associate               7.0   60000.0\n",
       "4  52.0    Male    Master's           Director              20.0  200000.0"
      ]
     },
     "execution_count": 12,
     "metadata": {},
     "output_type": "execute_result"
    }
   ],
   "source": [
    "sal_data.head()"
   ]
  },
  {
   "cell_type": "code",
   "execution_count": 13,
   "id": "4c6ac559-0969-4160-baf9-be79e1c03ce1",
   "metadata": {},
   "outputs": [
    {
     "data": {
      "text/plain": [
       "Age                 float64\n",
       "Gender               object\n",
       "Degree               object\n",
       "Job_Title            object\n",
       "Experience_years    float64\n",
       "Salary              float64\n",
       "dtype: object"
      ]
     },
     "execution_count": 13,
     "metadata": {},
     "output_type": "execute_result"
    }
   ],
   "source": [
    "sal_data.dtypes"
   ]
  },
  {
   "cell_type": "code",
   "execution_count": 14,
   "id": "96c7f5c8-1525-4b0c-bba2-25baab4765a1",
   "metadata": {},
   "outputs": [
    {
     "name": "stdout",
     "output_type": "stream",
     "text": [
      "<class 'pandas.core.frame.DataFrame'>\n",
      "RangeIndex: 375 entries, 0 to 374\n",
      "Data columns (total 6 columns):\n",
      " #   Column            Non-Null Count  Dtype  \n",
      "---  ------            --------------  -----  \n",
      " 0   Age               373 non-null    float64\n",
      " 1   Gender            373 non-null    object \n",
      " 2   Degree            373 non-null    object \n",
      " 3   Job_Title         373 non-null    object \n",
      " 4   Experience_years  373 non-null    float64\n",
      " 5   Salary            373 non-null    float64\n",
      "dtypes: float64(3), object(3)\n",
      "memory usage: 17.7+ KB\n"
     ]
    }
   ],
   "source": [
    "sal_data.info()"
   ]
  },
  {
   "cell_type": "code",
   "execution_count": 15,
   "id": "6ba14642-ef34-4e0d-b3d4-f4bd605b2fec",
   "metadata": {},
   "outputs": [
    {
     "data": {
      "text/html": [
       "<div>\n",
       "<style scoped>\n",
       "    .dataframe tbody tr th:only-of-type {\n",
       "        vertical-align: middle;\n",
       "    }\n",
       "\n",
       "    .dataframe tbody tr th {\n",
       "        vertical-align: top;\n",
       "    }\n",
       "\n",
       "    .dataframe thead th {\n",
       "        text-align: right;\n",
       "    }\n",
       "</style>\n",
       "<table border=\"1\" class=\"dataframe\">\n",
       "  <thead>\n",
       "    <tr style=\"text-align: right;\">\n",
       "      <th></th>\n",
       "      <th>Age</th>\n",
       "      <th>Gender</th>\n",
       "      <th>Degree</th>\n",
       "      <th>Job_Title</th>\n",
       "      <th>Experience_years</th>\n",
       "      <th>Salary</th>\n",
       "    </tr>\n",
       "  </thead>\n",
       "  <tbody>\n",
       "    <tr>\n",
       "      <th>195</th>\n",
       "      <td>28.0</td>\n",
       "      <td>Male</td>\n",
       "      <td>Bachelor's</td>\n",
       "      <td>Junior Business Analyst</td>\n",
       "      <td>2.0</td>\n",
       "      <td>40000.0</td>\n",
       "    </tr>\n",
       "    <tr>\n",
       "      <th>250</th>\n",
       "      <td>30.0</td>\n",
       "      <td>Female</td>\n",
       "      <td>Bachelor's</td>\n",
       "      <td>Junior Marketing Coordinator</td>\n",
       "      <td>2.0</td>\n",
       "      <td>40000.0</td>\n",
       "    </tr>\n",
       "    <tr>\n",
       "      <th>251</th>\n",
       "      <td>38.0</td>\n",
       "      <td>Male</td>\n",
       "      <td>Master's</td>\n",
       "      <td>Senior IT Consultant</td>\n",
       "      <td>9.0</td>\n",
       "      <td>110000.0</td>\n",
       "    </tr>\n",
       "    <tr>\n",
       "      <th>252</th>\n",
       "      <td>45.0</td>\n",
       "      <td>Female</td>\n",
       "      <td>PhD</td>\n",
       "      <td>Senior Product Designer</td>\n",
       "      <td>15.0</td>\n",
       "      <td>150000.0</td>\n",
       "    </tr>\n",
       "    <tr>\n",
       "      <th>253</th>\n",
       "      <td>28.0</td>\n",
       "      <td>Male</td>\n",
       "      <td>Bachelor's</td>\n",
       "      <td>Junior Business Development Associate</td>\n",
       "      <td>2.0</td>\n",
       "      <td>40000.0</td>\n",
       "    </tr>\n",
       "    <tr>\n",
       "      <th>254</th>\n",
       "      <td>35.0</td>\n",
       "      <td>Female</td>\n",
       "      <td>Bachelor's</td>\n",
       "      <td>Senior Marketing Analyst</td>\n",
       "      <td>8.0</td>\n",
       "      <td>85000.0</td>\n",
       "    </tr>\n",
       "    <tr>\n",
       "      <th>255</th>\n",
       "      <td>44.0</td>\n",
       "      <td>Male</td>\n",
       "      <td>Bachelor's</td>\n",
       "      <td>Senior Software Engineer</td>\n",
       "      <td>14.0</td>\n",
       "      <td>130000.0</td>\n",
       "    </tr>\n",
       "    <tr>\n",
       "      <th>256</th>\n",
       "      <td>34.0</td>\n",
       "      <td>Female</td>\n",
       "      <td>Master's</td>\n",
       "      <td>Senior Financial Advisor</td>\n",
       "      <td>6.0</td>\n",
       "      <td>100000.0</td>\n",
       "    </tr>\n",
       "    <tr>\n",
       "      <th>257</th>\n",
       "      <td>35.0</td>\n",
       "      <td>Male</td>\n",
       "      <td>Bachelor's</td>\n",
       "      <td>Senior Project Coordinator</td>\n",
       "      <td>9.0</td>\n",
       "      <td>95000.0</td>\n",
       "    </tr>\n",
       "    <tr>\n",
       "      <th>258</th>\n",
       "      <td>50.0</td>\n",
       "      <td>Female</td>\n",
       "      <td>PhD</td>\n",
       "      <td>Director of Operations</td>\n",
       "      <td>22.0</td>\n",
       "      <td>180000.0</td>\n",
       "    </tr>\n",
       "    <tr>\n",
       "      <th>260</th>\n",
       "      <td>NaN</td>\n",
       "      <td>NaN</td>\n",
       "      <td>NaN</td>\n",
       "      <td>NaN</td>\n",
       "      <td>NaN</td>\n",
       "      <td>NaN</td>\n",
       "    </tr>\n",
       "    <tr>\n",
       "      <th>262</th>\n",
       "      <td>46.0</td>\n",
       "      <td>Male</td>\n",
       "      <td>PhD</td>\n",
       "      <td>Senior Data Scientist</td>\n",
       "      <td>18.0</td>\n",
       "      <td>160000.0</td>\n",
       "    </tr>\n",
       "    <tr>\n",
       "      <th>281</th>\n",
       "      <td>41.0</td>\n",
       "      <td>Female</td>\n",
       "      <td>Bachelor's</td>\n",
       "      <td>Senior Project Coordinator</td>\n",
       "      <td>11.0</td>\n",
       "      <td>95000.0</td>\n",
       "    </tr>\n",
       "    <tr>\n",
       "      <th>287</th>\n",
       "      <td>35.0</td>\n",
       "      <td>Female</td>\n",
       "      <td>Bachelor's</td>\n",
       "      <td>Senior Marketing Analyst</td>\n",
       "      <td>8.0</td>\n",
       "      <td>85000.0</td>\n",
       "    </tr>\n",
       "    <tr>\n",
       "      <th>303</th>\n",
       "      <td>45.0</td>\n",
       "      <td>Male</td>\n",
       "      <td>PhD</td>\n",
       "      <td>Senior Data Engineer</td>\n",
       "      <td>16.0</td>\n",
       "      <td>150000.0</td>\n",
       "    </tr>\n",
       "    <tr>\n",
       "      <th>306</th>\n",
       "      <td>49.0</td>\n",
       "      <td>Female</td>\n",
       "      <td>Master's</td>\n",
       "      <td>Director of Marketing</td>\n",
       "      <td>21.0</td>\n",
       "      <td>180000.0</td>\n",
       "    </tr>\n",
       "    <tr>\n",
       "      <th>307</th>\n",
       "      <td>31.0</td>\n",
       "      <td>Male</td>\n",
       "      <td>Bachelor's</td>\n",
       "      <td>Junior Operations Analyst</td>\n",
       "      <td>3.0</td>\n",
       "      <td>50000.0</td>\n",
       "    </tr>\n",
       "    <tr>\n",
       "      <th>309</th>\n",
       "      <td>47.0</td>\n",
       "      <td>Male</td>\n",
       "      <td>Master's</td>\n",
       "      <td>Director of Marketing</td>\n",
       "      <td>19.0</td>\n",
       "      <td>170000.0</td>\n",
       "    </tr>\n",
       "    <tr>\n",
       "      <th>310</th>\n",
       "      <td>29.0</td>\n",
       "      <td>Female</td>\n",
       "      <td>Bachelor's</td>\n",
       "      <td>Junior Business Development Associate</td>\n",
       "      <td>1.5</td>\n",
       "      <td>35000.0</td>\n",
       "    </tr>\n",
       "    <tr>\n",
       "      <th>311</th>\n",
       "      <td>35.0</td>\n",
       "      <td>Male</td>\n",
       "      <td>Bachelor's</td>\n",
       "      <td>Senior Financial Manager</td>\n",
       "      <td>9.0</td>\n",
       "      <td>100000.0</td>\n",
       "    </tr>\n",
       "    <tr>\n",
       "      <th>312</th>\n",
       "      <td>44.0</td>\n",
       "      <td>Female</td>\n",
       "      <td>PhD</td>\n",
       "      <td>Senior Product Designer</td>\n",
       "      <td>15.0</td>\n",
       "      <td>150000.0</td>\n",
       "    </tr>\n",
       "    <tr>\n",
       "      <th>313</th>\n",
       "      <td>33.0</td>\n",
       "      <td>Male</td>\n",
       "      <td>Bachelor's</td>\n",
       "      <td>Junior Business Analyst</td>\n",
       "      <td>4.0</td>\n",
       "      <td>60000.0</td>\n",
       "    </tr>\n",
       "    <tr>\n",
       "      <th>314</th>\n",
       "      <td>35.0</td>\n",
       "      <td>Female</td>\n",
       "      <td>Bachelor's</td>\n",
       "      <td>Senior Marketing Analyst</td>\n",
       "      <td>8.0</td>\n",
       "      <td>85000.0</td>\n",
       "    </tr>\n",
       "    <tr>\n",
       "      <th>315</th>\n",
       "      <td>44.0</td>\n",
       "      <td>Male</td>\n",
       "      <td>Bachelor's</td>\n",
       "      <td>Senior Software Engineer</td>\n",
       "      <td>13.0</td>\n",
       "      <td>130000.0</td>\n",
       "    </tr>\n",
       "    <tr>\n",
       "      <th>317</th>\n",
       "      <td>36.0</td>\n",
       "      <td>Male</td>\n",
       "      <td>Bachelor's</td>\n",
       "      <td>Senior Marketing Specialist</td>\n",
       "      <td>8.0</td>\n",
       "      <td>95000.0</td>\n",
       "    </tr>\n",
       "    <tr>\n",
       "      <th>328</th>\n",
       "      <td>38.0</td>\n",
       "      <td>Female</td>\n",
       "      <td>Bachelor's</td>\n",
       "      <td>Senior Business Analyst</td>\n",
       "      <td>10.0</td>\n",
       "      <td>110000.0</td>\n",
       "    </tr>\n",
       "    <tr>\n",
       "      <th>345</th>\n",
       "      <td>33.0</td>\n",
       "      <td>Male</td>\n",
       "      <td>Bachelor's</td>\n",
       "      <td>Junior Business Analyst</td>\n",
       "      <td>4.0</td>\n",
       "      <td>60000.0</td>\n",
       "    </tr>\n",
       "    <tr>\n",
       "      <th>346</th>\n",
       "      <td>35.0</td>\n",
       "      <td>Female</td>\n",
       "      <td>Bachelor's</td>\n",
       "      <td>Senior Marketing Analyst</td>\n",
       "      <td>8.0</td>\n",
       "      <td>85000.0</td>\n",
       "    </tr>\n",
       "    <tr>\n",
       "      <th>352</th>\n",
       "      <td>38.0</td>\n",
       "      <td>Female</td>\n",
       "      <td>Bachelor's</td>\n",
       "      <td>Senior Business Analyst</td>\n",
       "      <td>10.0</td>\n",
       "      <td>110000.0</td>\n",
       "    </tr>\n",
       "    <tr>\n",
       "      <th>353</th>\n",
       "      <td>48.0</td>\n",
       "      <td>Male</td>\n",
       "      <td>Master's</td>\n",
       "      <td>Director of Marketing</td>\n",
       "      <td>21.0</td>\n",
       "      <td>180000.0</td>\n",
       "    </tr>\n",
       "    <tr>\n",
       "      <th>354</th>\n",
       "      <td>31.0</td>\n",
       "      <td>Female</td>\n",
       "      <td>Bachelor's</td>\n",
       "      <td>Junior Business Development Associate</td>\n",
       "      <td>3.0</td>\n",
       "      <td>50000.0</td>\n",
       "    </tr>\n",
       "    <tr>\n",
       "      <th>355</th>\n",
       "      <td>40.0</td>\n",
       "      <td>Male</td>\n",
       "      <td>Bachelor's</td>\n",
       "      <td>Senior Financial Analyst</td>\n",
       "      <td>12.0</td>\n",
       "      <td>130000.0</td>\n",
       "    </tr>\n",
       "    <tr>\n",
       "      <th>356</th>\n",
       "      <td>45.0</td>\n",
       "      <td>Female</td>\n",
       "      <td>PhD</td>\n",
       "      <td>Senior UX Designer</td>\n",
       "      <td>16.0</td>\n",
       "      <td>160000.0</td>\n",
       "    </tr>\n",
       "    <tr>\n",
       "      <th>357</th>\n",
       "      <td>33.0</td>\n",
       "      <td>Male</td>\n",
       "      <td>Bachelor's</td>\n",
       "      <td>Junior Product Manager</td>\n",
       "      <td>4.0</td>\n",
       "      <td>60000.0</td>\n",
       "    </tr>\n",
       "    <tr>\n",
       "      <th>358</th>\n",
       "      <td>36.0</td>\n",
       "      <td>Female</td>\n",
       "      <td>Bachelor's</td>\n",
       "      <td>Senior Marketing Manager</td>\n",
       "      <td>8.0</td>\n",
       "      <td>95000.0</td>\n",
       "    </tr>\n",
       "    <tr>\n",
       "      <th>359</th>\n",
       "      <td>47.0</td>\n",
       "      <td>Male</td>\n",
       "      <td>Master's</td>\n",
       "      <td>Director of Operations</td>\n",
       "      <td>19.0</td>\n",
       "      <td>170000.0</td>\n",
       "    </tr>\n",
       "    <tr>\n",
       "      <th>360</th>\n",
       "      <td>29.0</td>\n",
       "      <td>Female</td>\n",
       "      <td>Bachelor's</td>\n",
       "      <td>Junior Project Manager</td>\n",
       "      <td>2.0</td>\n",
       "      <td>40000.0</td>\n",
       "    </tr>\n",
       "    <tr>\n",
       "      <th>361</th>\n",
       "      <td>34.0</td>\n",
       "      <td>Male</td>\n",
       "      <td>Bachelor's</td>\n",
       "      <td>Senior Operations Coordinator</td>\n",
       "      <td>7.0</td>\n",
       "      <td>90000.0</td>\n",
       "    </tr>\n",
       "    <tr>\n",
       "      <th>362</th>\n",
       "      <td>44.0</td>\n",
       "      <td>Female</td>\n",
       "      <td>PhD</td>\n",
       "      <td>Senior Business Analyst</td>\n",
       "      <td>15.0</td>\n",
       "      <td>150000.0</td>\n",
       "    </tr>\n",
       "    <tr>\n",
       "      <th>363</th>\n",
       "      <td>33.0</td>\n",
       "      <td>Male</td>\n",
       "      <td>Bachelor's</td>\n",
       "      <td>Junior Marketing Specialist</td>\n",
       "      <td>5.0</td>\n",
       "      <td>70000.0</td>\n",
       "    </tr>\n",
       "    <tr>\n",
       "      <th>364</th>\n",
       "      <td>35.0</td>\n",
       "      <td>Female</td>\n",
       "      <td>Bachelor's</td>\n",
       "      <td>Senior Financial Manager</td>\n",
       "      <td>8.0</td>\n",
       "      <td>90000.0</td>\n",
       "    </tr>\n",
       "    <tr>\n",
       "      <th>365</th>\n",
       "      <td>43.0</td>\n",
       "      <td>Male</td>\n",
       "      <td>Master's</td>\n",
       "      <td>Director of Marketing</td>\n",
       "      <td>18.0</td>\n",
       "      <td>170000.0</td>\n",
       "    </tr>\n",
       "    <tr>\n",
       "      <th>366</th>\n",
       "      <td>31.0</td>\n",
       "      <td>Female</td>\n",
       "      <td>Bachelor's</td>\n",
       "      <td>Junior Financial Analyst</td>\n",
       "      <td>3.0</td>\n",
       "      <td>50000.0</td>\n",
       "    </tr>\n",
       "    <tr>\n",
       "      <th>367</th>\n",
       "      <td>41.0</td>\n",
       "      <td>Male</td>\n",
       "      <td>Bachelor's</td>\n",
       "      <td>Senior Product Manager</td>\n",
       "      <td>14.0</td>\n",
       "      <td>150000.0</td>\n",
       "    </tr>\n",
       "    <tr>\n",
       "      <th>368</th>\n",
       "      <td>44.0</td>\n",
       "      <td>Female</td>\n",
       "      <td>PhD</td>\n",
       "      <td>Senior Data Engineer</td>\n",
       "      <td>16.0</td>\n",
       "      <td>160000.0</td>\n",
       "    </tr>\n",
       "    <tr>\n",
       "      <th>369</th>\n",
       "      <td>33.0</td>\n",
       "      <td>Male</td>\n",
       "      <td>Bachelor's</td>\n",
       "      <td>Junior Business Analyst</td>\n",
       "      <td>4.0</td>\n",
       "      <td>60000.0</td>\n",
       "    </tr>\n",
       "    <tr>\n",
       "      <th>370</th>\n",
       "      <td>35.0</td>\n",
       "      <td>Female</td>\n",
       "      <td>Bachelor's</td>\n",
       "      <td>Senior Marketing Analyst</td>\n",
       "      <td>8.0</td>\n",
       "      <td>85000.0</td>\n",
       "    </tr>\n",
       "    <tr>\n",
       "      <th>372</th>\n",
       "      <td>29.0</td>\n",
       "      <td>Female</td>\n",
       "      <td>Bachelor's</td>\n",
       "      <td>Junior Project Manager</td>\n",
       "      <td>2.0</td>\n",
       "      <td>40000.0</td>\n",
       "    </tr>\n",
       "    <tr>\n",
       "      <th>373</th>\n",
       "      <td>34.0</td>\n",
       "      <td>Male</td>\n",
       "      <td>Bachelor's</td>\n",
       "      <td>Senior Operations Coordinator</td>\n",
       "      <td>7.0</td>\n",
       "      <td>90000.0</td>\n",
       "    </tr>\n",
       "    <tr>\n",
       "      <th>374</th>\n",
       "      <td>44.0</td>\n",
       "      <td>Female</td>\n",
       "      <td>PhD</td>\n",
       "      <td>Senior Business Analyst</td>\n",
       "      <td>15.0</td>\n",
       "      <td>150000.0</td>\n",
       "    </tr>\n",
       "  </tbody>\n",
       "</table>\n",
       "</div>"
      ],
      "text/plain": [
       "      Age  Gender      Degree                              Job_Title  \\\n",
       "195  28.0    Male  Bachelor's                Junior Business Analyst   \n",
       "250  30.0  Female  Bachelor's           Junior Marketing Coordinator   \n",
       "251  38.0    Male    Master's                   Senior IT Consultant   \n",
       "252  45.0  Female         PhD                Senior Product Designer   \n",
       "253  28.0    Male  Bachelor's  Junior Business Development Associate   \n",
       "254  35.0  Female  Bachelor's               Senior Marketing Analyst   \n",
       "255  44.0    Male  Bachelor's               Senior Software Engineer   \n",
       "256  34.0  Female    Master's               Senior Financial Advisor   \n",
       "257  35.0    Male  Bachelor's             Senior Project Coordinator   \n",
       "258  50.0  Female         PhD                 Director of Operations   \n",
       "260   NaN     NaN         NaN                                    NaN   \n",
       "262  46.0    Male         PhD                  Senior Data Scientist   \n",
       "281  41.0  Female  Bachelor's             Senior Project Coordinator   \n",
       "287  35.0  Female  Bachelor's               Senior Marketing Analyst   \n",
       "303  45.0    Male         PhD                   Senior Data Engineer   \n",
       "306  49.0  Female    Master's                  Director of Marketing   \n",
       "307  31.0    Male  Bachelor's              Junior Operations Analyst   \n",
       "309  47.0    Male    Master's                  Director of Marketing   \n",
       "310  29.0  Female  Bachelor's  Junior Business Development Associate   \n",
       "311  35.0    Male  Bachelor's               Senior Financial Manager   \n",
       "312  44.0  Female         PhD                Senior Product Designer   \n",
       "313  33.0    Male  Bachelor's                Junior Business Analyst   \n",
       "314  35.0  Female  Bachelor's               Senior Marketing Analyst   \n",
       "315  44.0    Male  Bachelor's               Senior Software Engineer   \n",
       "317  36.0    Male  Bachelor's            Senior Marketing Specialist   \n",
       "328  38.0  Female  Bachelor's                Senior Business Analyst   \n",
       "345  33.0    Male  Bachelor's                Junior Business Analyst   \n",
       "346  35.0  Female  Bachelor's               Senior Marketing Analyst   \n",
       "352  38.0  Female  Bachelor's                Senior Business Analyst   \n",
       "353  48.0    Male    Master's                  Director of Marketing   \n",
       "354  31.0  Female  Bachelor's  Junior Business Development Associate   \n",
       "355  40.0    Male  Bachelor's               Senior Financial Analyst   \n",
       "356  45.0  Female         PhD                     Senior UX Designer   \n",
       "357  33.0    Male  Bachelor's                 Junior Product Manager   \n",
       "358  36.0  Female  Bachelor's               Senior Marketing Manager   \n",
       "359  47.0    Male    Master's                 Director of Operations   \n",
       "360  29.0  Female  Bachelor's                 Junior Project Manager   \n",
       "361  34.0    Male  Bachelor's          Senior Operations Coordinator   \n",
       "362  44.0  Female         PhD                Senior Business Analyst   \n",
       "363  33.0    Male  Bachelor's            Junior Marketing Specialist   \n",
       "364  35.0  Female  Bachelor's               Senior Financial Manager   \n",
       "365  43.0    Male    Master's                  Director of Marketing   \n",
       "366  31.0  Female  Bachelor's               Junior Financial Analyst   \n",
       "367  41.0    Male  Bachelor's                 Senior Product Manager   \n",
       "368  44.0  Female         PhD                   Senior Data Engineer   \n",
       "369  33.0    Male  Bachelor's                Junior Business Analyst   \n",
       "370  35.0  Female  Bachelor's               Senior Marketing Analyst   \n",
       "372  29.0  Female  Bachelor's                 Junior Project Manager   \n",
       "373  34.0    Male  Bachelor's          Senior Operations Coordinator   \n",
       "374  44.0  Female         PhD                Senior Business Analyst   \n",
       "\n",
       "     Experience_years    Salary  \n",
       "195               2.0   40000.0  \n",
       "250               2.0   40000.0  \n",
       "251               9.0  110000.0  \n",
       "252              15.0  150000.0  \n",
       "253               2.0   40000.0  \n",
       "254               8.0   85000.0  \n",
       "255              14.0  130000.0  \n",
       "256               6.0  100000.0  \n",
       "257               9.0   95000.0  \n",
       "258              22.0  180000.0  \n",
       "260               NaN       NaN  \n",
       "262              18.0  160000.0  \n",
       "281              11.0   95000.0  \n",
       "287               8.0   85000.0  \n",
       "303              16.0  150000.0  \n",
       "306              21.0  180000.0  \n",
       "307               3.0   50000.0  \n",
       "309              19.0  170000.0  \n",
       "310               1.5   35000.0  \n",
       "311               9.0  100000.0  \n",
       "312              15.0  150000.0  \n",
       "313               4.0   60000.0  \n",
       "314               8.0   85000.0  \n",
       "315              13.0  130000.0  \n",
       "317               8.0   95000.0  \n",
       "328              10.0  110000.0  \n",
       "345               4.0   60000.0  \n",
       "346               8.0   85000.0  \n",
       "352              10.0  110000.0  \n",
       "353              21.0  180000.0  \n",
       "354               3.0   50000.0  \n",
       "355              12.0  130000.0  \n",
       "356              16.0  160000.0  \n",
       "357               4.0   60000.0  \n",
       "358               8.0   95000.0  \n",
       "359              19.0  170000.0  \n",
       "360               2.0   40000.0  \n",
       "361               7.0   90000.0  \n",
       "362              15.0  150000.0  \n",
       "363               5.0   70000.0  \n",
       "364               8.0   90000.0  \n",
       "365              18.0  170000.0  \n",
       "366               3.0   50000.0  \n",
       "367              14.0  150000.0  \n",
       "368              16.0  160000.0  \n",
       "369               4.0   60000.0  \n",
       "370               8.0   85000.0  \n",
       "372               2.0   40000.0  \n",
       "373               7.0   90000.0  \n",
       "374              15.0  150000.0  "
      ]
     },
     "execution_count": 15,
     "metadata": {},
     "output_type": "execute_result"
    }
   ],
   "source": [
    "sal_data[sal_data.duplicated()]"
   ]
  },
  {
   "cell_type": "code",
   "execution_count": 17,
   "id": "d9b351bd-c440-4947-8eff-4c4d96c36fde",
   "metadata": {},
   "outputs": [
    {
     "data": {
      "text/plain": [
       "(50, 6)"
      ]
     },
     "execution_count": 17,
     "metadata": {},
     "output_type": "execute_result"
    }
   ],
   "source": [
    "sal_data[sal_data.duplicated()].shape"
   ]
  },
  {
   "cell_type": "code",
   "execution_count": 22,
   "id": "2e61b9a5-e476-452a-b962-8ebed4484199",
   "metadata": {},
   "outputs": [
    {
     "data": {
      "text/plain": [
       "(325, 6)"
      ]
     },
     "execution_count": 22,
     "metadata": {},
     "output_type": "execute_result"
    }
   ],
   "source": [
    "sal_data1 = sal_data.drop_duplicates(keep = 'first')\n",
    "sal_data1.shape"
   ]
  },
  {
   "cell_type": "code",
   "execution_count": 23,
   "id": "2f4a3699-17eb-4846-b792-d15482485dc6",
   "metadata": {},
   "outputs": [
    {
     "data": {
      "text/plain": [
       "Age                 1\n",
       "Gender              1\n",
       "Degree              1\n",
       "Job_Title           1\n",
       "Experience_years    1\n",
       "Salary              1\n",
       "dtype: int64"
      ]
     },
     "execution_count": 23,
     "metadata": {},
     "output_type": "execute_result"
    }
   ],
   "source": [
    "sal_data1.isnull().sum()"
   ]
  },
  {
   "cell_type": "code",
   "execution_count": 24,
   "id": "30dbdb3a-935f-4842-a791-188933879b53",
   "metadata": {},
   "outputs": [
    {
     "name": "stderr",
     "output_type": "stream",
     "text": [
      "C:\\Users\\ASUS\\AppData\\Local\\Temp\\ipykernel_17796\\1780007887.py:1: SettingWithCopyWarning: \n",
      "A value is trying to be set on a copy of a slice from a DataFrame\n",
      "\n",
      "See the caveats in the documentation: https://pandas.pydata.org/pandas-docs/stable/user_guide/indexing.html#returning-a-view-versus-a-copy\n",
      "  sal_data1.dropna(how = 'any', inplace=True)\n"
     ]
    }
   ],
   "source": [
    "sal_data1.dropna(how = 'any', inplace=True)"
   ]
  },
  {
   "cell_type": "code",
   "execution_count": 25,
   "id": "02aec345-eeee-471d-ac96-98f2d12c4d25",
   "metadata": {},
   "outputs": [
    {
     "data": {
      "text/plain": [
       "(324, 6)"
      ]
     },
     "execution_count": 25,
     "metadata": {},
     "output_type": "execute_result"
    }
   ],
   "source": [
    "sal_data1.shape"
   ]
  },
  {
   "cell_type": "code",
   "execution_count": 26,
   "id": "08fbab60-368d-4c4a-97f0-181a7712a524",
   "metadata": {},
   "outputs": [
    {
     "data": {
      "text/html": [
       "<div>\n",
       "<style scoped>\n",
       "    .dataframe tbody tr th:only-of-type {\n",
       "        vertical-align: middle;\n",
       "    }\n",
       "\n",
       "    .dataframe tbody tr th {\n",
       "        vertical-align: top;\n",
       "    }\n",
       "\n",
       "    .dataframe thead th {\n",
       "        text-align: right;\n",
       "    }\n",
       "</style>\n",
       "<table border=\"1\" class=\"dataframe\">\n",
       "  <thead>\n",
       "    <tr style=\"text-align: right;\">\n",
       "      <th></th>\n",
       "      <th>Age</th>\n",
       "      <th>Gender</th>\n",
       "      <th>Degree</th>\n",
       "      <th>Job_Title</th>\n",
       "      <th>Experience_years</th>\n",
       "      <th>Salary</th>\n",
       "    </tr>\n",
       "  </thead>\n",
       "  <tbody>\n",
       "    <tr>\n",
       "      <th>0</th>\n",
       "      <td>32.0</td>\n",
       "      <td>Male</td>\n",
       "      <td>Bachelor's</td>\n",
       "      <td>Software Engineer</td>\n",
       "      <td>5.0</td>\n",
       "      <td>90000.0</td>\n",
       "    </tr>\n",
       "    <tr>\n",
       "      <th>1</th>\n",
       "      <td>28.0</td>\n",
       "      <td>Female</td>\n",
       "      <td>Master's</td>\n",
       "      <td>Data Analyst</td>\n",
       "      <td>3.0</td>\n",
       "      <td>65000.0</td>\n",
       "    </tr>\n",
       "    <tr>\n",
       "      <th>2</th>\n",
       "      <td>45.0</td>\n",
       "      <td>Male</td>\n",
       "      <td>PhD</td>\n",
       "      <td>Senior Manager</td>\n",
       "      <td>15.0</td>\n",
       "      <td>150000.0</td>\n",
       "    </tr>\n",
       "    <tr>\n",
       "      <th>3</th>\n",
       "      <td>36.0</td>\n",
       "      <td>Female</td>\n",
       "      <td>Bachelor's</td>\n",
       "      <td>Sales Associate</td>\n",
       "      <td>7.0</td>\n",
       "      <td>60000.0</td>\n",
       "    </tr>\n",
       "    <tr>\n",
       "      <th>4</th>\n",
       "      <td>52.0</td>\n",
       "      <td>Male</td>\n",
       "      <td>Master's</td>\n",
       "      <td>Director</td>\n",
       "      <td>20.0</td>\n",
       "      <td>200000.0</td>\n",
       "    </tr>\n",
       "  </tbody>\n",
       "</table>\n",
       "</div>"
      ],
      "text/plain": [
       "    Age  Gender      Degree          Job_Title  Experience_years    Salary\n",
       "0  32.0    Male  Bachelor's  Software Engineer               5.0   90000.0\n",
       "1  28.0  Female    Master's       Data Analyst               3.0   65000.0\n",
       "2  45.0    Male         PhD     Senior Manager              15.0  150000.0\n",
       "3  36.0  Female  Bachelor's    Sales Associate               7.0   60000.0\n",
       "4  52.0    Male    Master's           Director              20.0  200000.0"
      ]
     },
     "execution_count": 26,
     "metadata": {},
     "output_type": "execute_result"
    }
   ],
   "source": [
    "sal_data1.head()"
   ]
  },
  {
   "cell_type": "code",
   "execution_count": 27,
   "id": "c461e114-6aeb-450d-8789-091a1346e7d8",
   "metadata": {},
   "outputs": [
    {
     "data": {
      "text/html": [
       "<div>\n",
       "<style scoped>\n",
       "    .dataframe tbody tr th:only-of-type {\n",
       "        vertical-align: middle;\n",
       "    }\n",
       "\n",
       "    .dataframe tbody tr th {\n",
       "        vertical-align: top;\n",
       "    }\n",
       "\n",
       "    .dataframe thead th {\n",
       "        text-align: right;\n",
       "    }\n",
       "</style>\n",
       "<table border=\"1\" class=\"dataframe\">\n",
       "  <thead>\n",
       "    <tr style=\"text-align: right;\">\n",
       "      <th></th>\n",
       "      <th>Age</th>\n",
       "      <th>Experience_years</th>\n",
       "      <th>Salary</th>\n",
       "    </tr>\n",
       "  </thead>\n",
       "  <tbody>\n",
       "    <tr>\n",
       "      <th>count</th>\n",
       "      <td>324.000000</td>\n",
       "      <td>324.000000</td>\n",
       "      <td>324.000000</td>\n",
       "    </tr>\n",
       "    <tr>\n",
       "      <th>mean</th>\n",
       "      <td>37.382716</td>\n",
       "      <td>10.058642</td>\n",
       "      <td>99985.648148</td>\n",
       "    </tr>\n",
       "    <tr>\n",
       "      <th>std</th>\n",
       "      <td>7.185844</td>\n",
       "      <td>6.650470</td>\n",
       "      <td>48652.271440</td>\n",
       "    </tr>\n",
       "    <tr>\n",
       "      <th>min</th>\n",
       "      <td>23.000000</td>\n",
       "      <td>0.000000</td>\n",
       "      <td>350.000000</td>\n",
       "    </tr>\n",
       "    <tr>\n",
       "      <th>25%</th>\n",
       "      <td>31.000000</td>\n",
       "      <td>4.000000</td>\n",
       "      <td>55000.000000</td>\n",
       "    </tr>\n",
       "    <tr>\n",
       "      <th>50%</th>\n",
       "      <td>36.500000</td>\n",
       "      <td>9.000000</td>\n",
       "      <td>95000.000000</td>\n",
       "    </tr>\n",
       "    <tr>\n",
       "      <th>75%</th>\n",
       "      <td>44.000000</td>\n",
       "      <td>16.000000</td>\n",
       "      <td>140000.000000</td>\n",
       "    </tr>\n",
       "    <tr>\n",
       "      <th>max</th>\n",
       "      <td>53.000000</td>\n",
       "      <td>25.000000</td>\n",
       "      <td>250000.000000</td>\n",
       "    </tr>\n",
       "  </tbody>\n",
       "</table>\n",
       "</div>"
      ],
      "text/plain": [
       "              Age  Experience_years         Salary\n",
       "count  324.000000        324.000000     324.000000\n",
       "mean    37.382716         10.058642   99985.648148\n",
       "std      7.185844          6.650470   48652.271440\n",
       "min     23.000000          0.000000     350.000000\n",
       "25%     31.000000          4.000000   55000.000000\n",
       "50%     36.500000          9.000000   95000.000000\n",
       "75%     44.000000         16.000000  140000.000000\n",
       "max     53.000000         25.000000  250000.000000"
      ]
     },
     "execution_count": 27,
     "metadata": {},
     "output_type": "execute_result"
    }
   ],
   "source": [
    "sal_data1.describe()"
   ]
  },
  {
   "cell_type": "code",
   "execution_count": 28,
   "id": "ca9d68df-c95f-4247-aa32-c30c5ecea7f9",
   "metadata": {},
   "outputs": [
    {
     "data": {
      "text/html": [
       "<div>\n",
       "<style scoped>\n",
       "    .dataframe tbody tr th:only-of-type {\n",
       "        vertical-align: middle;\n",
       "    }\n",
       "\n",
       "    .dataframe tbody tr th {\n",
       "        vertical-align: top;\n",
       "    }\n",
       "\n",
       "    .dataframe thead th {\n",
       "        text-align: right;\n",
       "    }\n",
       "</style>\n",
       "<table border=\"1\" class=\"dataframe\">\n",
       "  <thead>\n",
       "    <tr style=\"text-align: right;\">\n",
       "      <th></th>\n",
       "      <th>Age</th>\n",
       "      <th>Experience_years</th>\n",
       "      <th>Salary</th>\n",
       "    </tr>\n",
       "  </thead>\n",
       "  <tbody>\n",
       "    <tr>\n",
       "      <th>Age</th>\n",
       "      <td>1.000000</td>\n",
       "      <td>0.979192</td>\n",
       "      <td>0.916543</td>\n",
       "    </tr>\n",
       "    <tr>\n",
       "      <th>Experience_years</th>\n",
       "      <td>0.979192</td>\n",
       "      <td>1.000000</td>\n",
       "      <td>0.924455</td>\n",
       "    </tr>\n",
       "    <tr>\n",
       "      <th>Salary</th>\n",
       "      <td>0.916543</td>\n",
       "      <td>0.924455</td>\n",
       "      <td>1.000000</td>\n",
       "    </tr>\n",
       "  </tbody>\n",
       "</table>\n",
       "</div>"
      ],
      "text/plain": [
       "                       Age  Experience_years    Salary\n",
       "Age               1.000000          0.979192  0.916543\n",
       "Experience_years  0.979192          1.000000  0.924455\n",
       "Salary            0.916543          0.924455  1.000000"
      ]
     },
     "execution_count": 28,
     "metadata": {},
     "output_type": "execute_result"
    }
   ],
   "source": [
    "corr = sal_data1[['Age','Experience_years','Salary']].corr()\n",
    "corr"
   ]
  },
  {
   "cell_type": "code",
   "execution_count": 29,
   "id": "c1c9c691-cf4c-42ec-a79c-f98764918eb4",
   "metadata": {},
   "outputs": [
    {
     "data": {
      "text/plain": [
       "<Axes: >"
      ]
     },
     "execution_count": 29,
     "metadata": {},
     "output_type": "execute_result"
    },
    {
     "data": {
      "image/png": "[encoded data removed]",
      "text/plain": [
       "<Figure size 640x480 with 2 Axes>"
      ]
     },
     "metadata": {},
     "output_type": "display_data"
    }
   ],
   "source": [
    "sns.heatmap(corr, annot = True)"
   ]
  },
  {
   "cell_type": "code",
   "execution_count": 30,
   "id": "2fbfe312-44d5-47cf-981a-2937eb9f43a4",
   "metadata": {},
   "outputs": [
    {
     "data": {
      "text/plain": [
       "Degree\n",
       "Bachelor's    191\n",
       "Master's       91\n",
       "PhD            42\n",
       "Name: count, dtype: int64"
      ]
     },
     "execution_count": 30,
     "metadata": {},
     "output_type": "execute_result"
    }
   ],
   "source": [
    "sal_data1['Degree'].value_counts()"
   ]
  },
  {
   "cell_type": "code",
   "execution_count": 31,
   "id": "536cd002-8eed-4397-92db-aeac5f1afa1c",
   "metadata": {},
   "outputs": [
    {
     "data": {
      "text/plain": [
       "<Axes: xlabel='Degree'>"
      ]
     },
     "execution_count": 31,
     "metadata": {},
     "output_type": "execute_result"
    },
    {
     "data": {
      "image/png": "[encoded data removed]",
      "text/plain": [
       "<Figure size 640x480 with 1 Axes>"
      ]
     },
     "metadata": {},
     "output_type": "display_data"
    }
   ],
   "source": [
    "sal_data1['Degree'].value_counts().plot(kind = 'bar')"
   ]
  },
  {
   "cell_type": "code",
   "execution_count": 32,
   "id": "622da16d-1171-4059-8c5a-244b29edf0ac",
   "metadata": {},
   "outputs": [
    {
     "data": {
      "text/plain": [
       "Job_Title\n",
       "Director of Operations            9\n",
       "Director of Marketing             8\n",
       "Senior Marketing Manager          8\n",
       "Senior Project Manager            7\n",
       "Senior Data Scientist             6\n",
       "                                 ..\n",
       "Junior Social Media Specialist    1\n",
       "Junior Operations Coordinator     1\n",
       "Senior HR Specialist              1\n",
       "Director of HR                    1\n",
       "Junior Financial Advisor          1\n",
       "Name: count, Length: 174, dtype: int64"
      ]
     },
     "execution_count": 32,
     "metadata": {},
     "output_type": "execute_result"
    }
   ],
   "source": [
    "sal_data1['Job_Title'].value_counts()"
   ]
  },
  {
   "cell_type": "code",
   "execution_count": 33,
   "id": "af57b4c7-a5d3-40e1-a565-9a1c0f5efd52",
   "metadata": {},
   "outputs": [
    {
     "data": {
      "text/plain": [
       "array(['Software Engineer', 'Data Analyst', 'Senior Manager',\n",
       "       'Sales Associate', 'Director', 'Marketing Analyst',\n",
       "       'Product Manager', 'Sales Manager', 'Marketing Coordinator',\n",
       "       'Senior Scientist', 'Software Developer', 'HR Manager',\n",
       "       'Financial Analyst', 'Project Manager', 'Customer Service Rep',\n",
       "       'Operations Manager', 'Marketing Manager', 'Senior Engineer',\n",
       "       'Data Entry Clerk', 'Sales Director', 'Business Analyst',\n",
       "       'VP of Operations', 'IT Support', 'Recruiter', 'Financial Manager',\n",
       "       'Social Media Specialist', 'Software Manager', 'Junior Developer',\n",
       "       'Senior Consultant', 'Product Designer', 'CEO', 'Accountant',\n",
       "       'Data Scientist', 'Marketing Specialist', 'Technical Writer',\n",
       "       'HR Generalist', 'Project Engineer', 'Customer Success Rep',\n",
       "       'Sales Executive', 'UX Designer', 'Operations Director',\n",
       "       'Network Engineer', 'Administrative Assistant',\n",
       "       'Strategy Consultant', 'Copywriter', 'Account Manager',\n",
       "       'Director of Marketing', 'Help Desk Analyst',\n",
       "       'Customer Service Manager', 'Business Intelligence Analyst',\n",
       "       'Event Coordinator', 'VP of Finance', 'Graphic Designer',\n",
       "       'UX Researcher', 'Social Media Manager', 'Director of Operations',\n",
       "       'Senior Data Scientist', 'Junior Accountant',\n",
       "       'Digital Marketing Manager', 'IT Manager',\n",
       "       'Customer Service Representative', 'Business Development Manager',\n",
       "       'Senior Financial Analyst', 'Web Developer', 'Research Director',\n",
       "       'Technical Support Specialist', 'Creative Director',\n",
       "       'Senior Software Engineer', 'Human Resources Director',\n",
       "       'Content Marketing Manager', 'Technical Recruiter',\n",
       "       'Sales Representative', 'Chief Technology Officer',\n",
       "       'Junior Designer', 'Financial Advisor', 'Junior Account Manager',\n",
       "       'Senior Project Manager', 'Principal Scientist',\n",
       "       'Supply Chain Manager', 'Senior Marketing Manager',\n",
       "       'Training Specialist', 'Research Scientist',\n",
       "       'Junior Software Developer', 'Public Relations Manager',\n",
       "       'Operations Analyst', 'Product Marketing Manager',\n",
       "       'Senior HR Manager', 'Junior Web Developer',\n",
       "       'Senior Project Coordinator', 'Chief Data Officer',\n",
       "       'Digital Content Producer', 'IT Support Specialist',\n",
       "       'Senior Marketing Analyst', 'Customer Success Manager',\n",
       "       'Senior Graphic Designer', 'Software Project Manager',\n",
       "       'Supply Chain Analyst', 'Senior Business Analyst',\n",
       "       'Junior Marketing Analyst', 'Office Manager', 'Principal Engineer',\n",
       "       'Junior HR Generalist', 'Senior Product Manager',\n",
       "       'Junior Operations Analyst', 'Senior HR Generalist',\n",
       "       'Sales Operations Manager', 'Senior Software Developer',\n",
       "       'Junior Web Designer', 'Senior Training Specialist',\n",
       "       'Senior Research Scientist', 'Junior Sales Representative',\n",
       "       'Junior Marketing Manager', 'Junior Data Analyst',\n",
       "       'Senior Product Marketing Manager', 'Junior Business Analyst',\n",
       "       'Senior Sales Manager', 'Junior Marketing Specialist',\n",
       "       'Junior Project Manager', 'Senior Accountant', 'Director of Sales',\n",
       "       'Junior Recruiter', 'Senior Business Development Manager',\n",
       "       'Senior Product Designer', 'Junior Customer Support Specialist',\n",
       "       'Senior IT Support Specialist', 'Junior Financial Analyst',\n",
       "       'Senior Operations Manager', 'Director of Human Resources',\n",
       "       'Junior Software Engineer', 'Senior Sales Representative',\n",
       "       'Director of Product Management', 'Junior Copywriter',\n",
       "       'Senior Marketing Coordinator', 'Senior Human Resources Manager',\n",
       "       'Junior Business Development Associate', 'Senior Account Manager',\n",
       "       'Senior Researcher', 'Junior HR Coordinator',\n",
       "       'Director of Finance', 'Junior Marketing Coordinator',\n",
       "       'Junior Data Scientist', 'Senior Operations Analyst',\n",
       "       'Senior Human Resources Coordinator', 'Senior UX Designer',\n",
       "       'Junior Product Manager', 'Senior Marketing Specialist',\n",
       "       'Senior IT Project Manager', 'Senior Quality Assurance Analyst',\n",
       "       'Director of Sales and Marketing', 'Senior Account Executive',\n",
       "       'Director of Business Development', 'Junior Social Media Manager',\n",
       "       'Senior Human Resources Specialist', 'Senior Data Analyst',\n",
       "       'Director of Human Capital', 'Junior Advertising Coordinator',\n",
       "       'Junior UX Designer', 'Senior Marketing Director',\n",
       "       'Senior IT Consultant', 'Senior Financial Advisor',\n",
       "       'Junior Business Operations Analyst',\n",
       "       'Junior Social Media Specialist',\n",
       "       'Senior Product Development Manager', 'Junior Operations Manager',\n",
       "       'Senior Software Architect', 'Junior Research Scientist',\n",
       "       'Senior Financial Manager', 'Senior HR Specialist',\n",
       "       'Senior Data Engineer', 'Junior Operations Coordinator',\n",
       "       'Director of HR', 'Senior Operations Coordinator',\n",
       "       'Junior Financial Advisor', 'Director of Engineering'],\n",
       "      dtype=object)"
      ]
     },
     "execution_count": 33,
     "metadata": {},
     "output_type": "execute_result"
    }
   ],
   "source": [
    "sal_data1['Job_Title'].unique()"
   ]
  },
  {
   "cell_type": "code",
   "execution_count": 35,
   "id": "e4cf79c6-dd2f-45b1-acb1-518decc334f4",
   "metadata": {},
   "outputs": [
    {
     "data": {
      "text/plain": [
       "<Axes: ylabel='Gender'>"
      ]
     },
     "execution_count": 35,
     "metadata": {},
     "output_type": "execute_result"
    },
    {
     "data": {
      "image/png": "[encoded data removed]",
      "text/plain": [
       "<Figure size 640x480 with 1 Axes>"
      ]
     },
     "metadata": {},
     "output_type": "display_data"
    }
   ],
   "source": [
    "sal_data1['Gender'].value_counts().plot(kind = 'barh')"
   ]
  },
  {
   "cell_type": "code",
   "execution_count": 36,
   "id": "c0b872ea-20f3-4409-8808-b7935f9f6fe2",
   "metadata": {},
   "outputs": [
    {
     "data": {
      "text/plain": [
       "<Axes: ylabel='Frequency'>"
      ]
     },
     "execution_count": 36,
     "metadata": {},
     "output_type": "execute_result"
    },
    {
     "data": {
      "image/png": "[encoded data removed]",
      "text/plain": [
       "<Figure size 640x480 with 1 Axes>"
      ]
     },
     "metadata": {},
     "output_type": "display_data"
    }
   ],
   "source": [
    "sal_data1.Age.plot(kind = 'hist')"
   ]
  },
  {
   "cell_type": "code",
   "execution_count": 37,
   "id": "31a11eb2-78eb-4b5d-89d2-13d63f4e5338",
   "metadata": {},
   "outputs": [
    {
     "data": {
      "text/plain": [
       "<Axes: >"
      ]
     },
     "execution_count": 37,
     "metadata": {},
     "output_type": "execute_result"
    },
    {
     "data": {
      "image/png": "[encoded data removed]",
      "text/plain": [
       "<Figure size 640x480 with 1 Axes>"
      ]
     },
     "metadata": {},
     "output_type": "display_data"
    }
   ],
   "source": [
    "sal_data1.Age.plot(kind = 'box')"
   ]
  },
  {
   "cell_type": "code",
   "execution_count": 38,
   "id": "272c63dc-2491-489f-91f4-5482d6e1b61b",
   "metadata": {},
   "outputs": [
    {
     "data": {
      "text/plain": [
       "<Axes: >"
      ]
     },
     "execution_count": 38,
     "metadata": {},
     "output_type": "execute_result"
    },
    {
     "data": {
      "image/png": "[encoded data removed]",
      "text/plain": [
       "<Figure size 640x480 with 1 Axes>"
      ]
     },
     "metadata": {},
     "output_type": "display_data"
    }
   ],
   "source": [
    "sal_data1.Experience_years.plot(kind = 'box')"
   ]
  },
  {
   "cell_type": "code",
   "execution_count": 39,
   "id": "3d41c31e-3d7a-4d12-912e-197f81818904",
   "metadata": {},
   "outputs": [
    {
     "data": {
      "text/plain": [
       "<Axes: >"
      ]
     },
     "execution_count": 39,
     "metadata": {},
     "output_type": "execute_result"
    },
    {
     "data": {
      "image/png": "[encoded data removed]",
      "text/plain": [
       "<Figure size 640x480 with 1 Axes>"
      ]
     },
     "metadata": {},
     "output_type": "display_data"
    }
   ],
   "source": [
    "sal_data1.Salary.plot(kind = 'box')"
   ]
  },
  {
   "cell_type": "code",
   "execution_count": 40,
   "id": "0242509b-ccff-4668-be26-bf16cfaadf57",
   "metadata": {},
   "outputs": [
    {
     "data": {
      "text/plain": [
       "<Axes: ylabel='Frequency'>"
      ]
     },
     "execution_count": 40,
     "metadata": {},
     "output_type": "execute_result"
    },
    {
     "data": {
      "image/png": "[encoded data removed]",
      "text/plain": [
       "<Figure size 640x480 with 1 Axes>"
      ]
     },
     "metadata": {},
     "output_type": "display_data"
    }
   ],
   "source": [
    "sal_data1.Salary.plot(kind = 'hist')"
   ]
  },
  {
   "cell_type": "code",
   "execution_count": 41,
   "id": "90cf33c8-6b21-4d33-a046-c8ba5cec8d56",
   "metadata": {},
   "outputs": [
    {
     "data": {
      "text/html": [
       "<div>\n",
       "<style scoped>\n",
       "    .dataframe tbody tr th:only-of-type {\n",
       "        vertical-align: middle;\n",
       "    }\n",
       "\n",
       "    .dataframe tbody tr th {\n",
       "        vertical-align: top;\n",
       "    }\n",
       "\n",
       "    .dataframe thead th {\n",
       "        text-align: right;\n",
       "    }\n",
       "</style>\n",
       "<table border=\"1\" class=\"dataframe\">\n",
       "  <thead>\n",
       "    <tr style=\"text-align: right;\">\n",
       "      <th></th>\n",
       "      <th>Age</th>\n",
       "      <th>Gender</th>\n",
       "      <th>Degree</th>\n",
       "      <th>Job_Title</th>\n",
       "      <th>Experience_years</th>\n",
       "      <th>Salary</th>\n",
       "    </tr>\n",
       "  </thead>\n",
       "  <tbody>\n",
       "    <tr>\n",
       "      <th>0</th>\n",
       "      <td>32.0</td>\n",
       "      <td>Male</td>\n",
       "      <td>Bachelor's</td>\n",
       "      <td>Software Engineer</td>\n",
       "      <td>5.0</td>\n",
       "      <td>90000.0</td>\n",
       "    </tr>\n",
       "    <tr>\n",
       "      <th>1</th>\n",
       "      <td>28.0</td>\n",
       "      <td>Female</td>\n",
       "      <td>Master's</td>\n",
       "      <td>Data Analyst</td>\n",
       "      <td>3.0</td>\n",
       "      <td>65000.0</td>\n",
       "    </tr>\n",
       "    <tr>\n",
       "      <th>2</th>\n",
       "      <td>45.0</td>\n",
       "      <td>Male</td>\n",
       "      <td>PhD</td>\n",
       "      <td>Senior Manager</td>\n",
       "      <td>15.0</td>\n",
       "      <td>150000.0</td>\n",
       "    </tr>\n",
       "    <tr>\n",
       "      <th>3</th>\n",
       "      <td>36.0</td>\n",
       "      <td>Female</td>\n",
       "      <td>Bachelor's</td>\n",
       "      <td>Sales Associate</td>\n",
       "      <td>7.0</td>\n",
       "      <td>60000.0</td>\n",
       "    </tr>\n",
       "    <tr>\n",
       "      <th>4</th>\n",
       "      <td>52.0</td>\n",
       "      <td>Male</td>\n",
       "      <td>Master's</td>\n",
       "      <td>Director</td>\n",
       "      <td>20.0</td>\n",
       "      <td>200000.0</td>\n",
       "    </tr>\n",
       "  </tbody>\n",
       "</table>\n",
       "</div>"
      ],
      "text/plain": [
       "    Age  Gender      Degree          Job_Title  Experience_years    Salary\n",
       "0  32.0    Male  Bachelor's  Software Engineer               5.0   90000.0\n",
       "1  28.0  Female    Master's       Data Analyst               3.0   65000.0\n",
       "2  45.0    Male         PhD     Senior Manager              15.0  150000.0\n",
       "3  36.0  Female  Bachelor's    Sales Associate               7.0   60000.0\n",
       "4  52.0    Male    Master's           Director              20.0  200000.0"
      ]
     },
     "execution_count": 41,
     "metadata": {},
     "output_type": "execute_result"
    }
   ],
   "source": [
    "sal_data1.head()"
   ]
  },
  {
   "cell_type": "code",
   "execution_count": 42,
   "id": "07c7f118-94a1-4d0c-838e-f7f9584c3d52",
   "metadata": {},
   "outputs": [],
   "source": [
    "from sklearn.preprocessing import LabelEncoder\n",
    "Label_Encoder = LabelEncoder()"
   ]
  },
  {
   "cell_type": "code",
   "execution_count": 43,
   "id": "d7eec8bd-f4f3-4b0a-90dd-495a48d3b251",
   "metadata": {},
   "outputs": [
    {
     "name": "stderr",
     "output_type": "stream",
     "text": [
      "C:\\Users\\ASUS\\AppData\\Local\\Temp\\ipykernel_17796\\1017469824.py:1: SettingWithCopyWarning: \n",
      "A value is trying to be set on a copy of a slice from a DataFrame.\n",
      "Try using .loc[row_indexer,col_indexer] = value instead\n",
      "\n",
      "See the caveats in the documentation: https://pandas.pydata.org/pandas-docs/stable/user_guide/indexing.html#returning-a-view-versus-a-copy\n",
      "  sal_data1['Gender_Encode'] = Label_Encoder.fit_transform(sal_data1['Gender'])\n"
     ]
    }
   ],
   "source": [
    "sal_data1['Gender_Encode'] = Label_Encoder.fit_transform(sal_data1['Gender'])"
   ]
  },
  {
   "cell_type": "code",
   "execution_count": 44,
   "id": "eeeaeb95-ccf0-4fb1-9065-a46a084ba736",
   "metadata": {},
   "outputs": [
    {
     "name": "stderr",
     "output_type": "stream",
     "text": [
      "C:\\Users\\ASUS\\AppData\\Local\\Temp\\ipykernel_17796\\446779904.py:1: SettingWithCopyWarning: \n",
      "A value is trying to be set on a copy of a slice from a DataFrame.\n",
      "Try using .loc[row_indexer,col_indexer] = value instead\n",
      "\n",
      "See the caveats in the documentation: https://pandas.pydata.org/pandas-docs/stable/user_guide/indexing.html#returning-a-view-versus-a-copy\n",
      "  sal_data1['Degree_Encode'] = Label_Encoder.fit_transform(sal_data1['Degree'])\n"
     ]
    }
   ],
   "source": [
    "sal_data1['Degree_Encode'] = Label_Encoder.fit_transform(sal_data1['Degree'])"
   ]
  },
  {
   "cell_type": "code",
   "execution_count": 45,
   "id": "72684f19-9122-48ef-8f0b-a5a78160684b",
   "metadata": {},
   "outputs": [
    {
     "name": "stderr",
     "output_type": "stream",
     "text": [
      "C:\\Users\\ASUS\\AppData\\Local\\Temp\\ipykernel_17796\\840262182.py:1: SettingWithCopyWarning: \n",
      "A value is trying to be set on a copy of a slice from a DataFrame.\n",
      "Try using .loc[row_indexer,col_indexer] = value instead\n",
      "\n",
      "See the caveats in the documentation: https://pandas.pydata.org/pandas-docs/stable/user_guide/indexing.html#returning-a-view-versus-a-copy\n",
      "  sal_data1['Job_Title_Encode'] = Label_Encoder.fit_transform(sal_data1['Job_Title'])\n"
     ]
    }
   ],
   "source": [
    "sal_data1['Job_Title_Encode'] = Label_Encoder.fit_transform(sal_data1['Job_Title'])"
   ]
  },
  {
   "cell_type": "code",
   "execution_count": 46,
   "id": "a100f1c7-4711-49b4-937c-e19d29956093",
   "metadata": {},
   "outputs": [
    {
     "data": {
      "text/html": [
       "<div>\n",
       "<style scoped>\n",
       "    .dataframe tbody tr th:only-of-type {\n",
       "        vertical-align: middle;\n",
       "    }\n",
       "\n",
       "    .dataframe tbody tr th {\n",
       "        vertical-align: top;\n",
       "    }\n",
       "\n",
       "    .dataframe thead th {\n",
       "        text-align: right;\n",
       "    }\n",
       "</style>\n",
       "<table border=\"1\" class=\"dataframe\">\n",
       "  <thead>\n",
       "    <tr style=\"text-align: right;\">\n",
       "      <th></th>\n",
       "      <th>Age</th>\n",
       "      <th>Gender</th>\n",
       "      <th>Degree</th>\n",
       "      <th>Job_Title</th>\n",
       "      <th>Experience_years</th>\n",
       "      <th>Salary</th>\n",
       "      <th>Gender_Encode</th>\n",
       "      <th>Degree_Encode</th>\n",
       "      <th>Job_Title_Encode</th>\n",
       "    </tr>\n",
       "  </thead>\n",
       "  <tbody>\n",
       "    <tr>\n",
       "      <th>0</th>\n",
       "      <td>32.0</td>\n",
       "      <td>Male</td>\n",
       "      <td>Bachelor's</td>\n",
       "      <td>Software Engineer</td>\n",
       "      <td>5.0</td>\n",
       "      <td>90000.0</td>\n",
       "      <td>1</td>\n",
       "      <td>0</td>\n",
       "      <td>159</td>\n",
       "    </tr>\n",
       "    <tr>\n",
       "      <th>1</th>\n",
       "      <td>28.0</td>\n",
       "      <td>Female</td>\n",
       "      <td>Master's</td>\n",
       "      <td>Data Analyst</td>\n",
       "      <td>3.0</td>\n",
       "      <td>65000.0</td>\n",
       "      <td>0</td>\n",
       "      <td>1</td>\n",
       "      <td>17</td>\n",
       "    </tr>\n",
       "    <tr>\n",
       "      <th>2</th>\n",
       "      <td>45.0</td>\n",
       "      <td>Male</td>\n",
       "      <td>PhD</td>\n",
       "      <td>Senior Manager</td>\n",
       "      <td>15.0</td>\n",
       "      <td>150000.0</td>\n",
       "      <td>1</td>\n",
       "      <td>2</td>\n",
       "      <td>130</td>\n",
       "    </tr>\n",
       "    <tr>\n",
       "      <th>3</th>\n",
       "      <td>36.0</td>\n",
       "      <td>Female</td>\n",
       "      <td>Bachelor's</td>\n",
       "      <td>Sales Associate</td>\n",
       "      <td>7.0</td>\n",
       "      <td>60000.0</td>\n",
       "      <td>0</td>\n",
       "      <td>0</td>\n",
       "      <td>101</td>\n",
       "    </tr>\n",
       "    <tr>\n",
       "      <th>4</th>\n",
       "      <td>52.0</td>\n",
       "      <td>Male</td>\n",
       "      <td>Master's</td>\n",
       "      <td>Director</td>\n",
       "      <td>20.0</td>\n",
       "      <td>200000.0</td>\n",
       "      <td>1</td>\n",
       "      <td>1</td>\n",
       "      <td>22</td>\n",
       "    </tr>\n",
       "  </tbody>\n",
       "</table>\n",
       "</div>"
      ],
      "text/plain": [
       "    Age  Gender      Degree          Job_Title  Experience_years    Salary  \\\n",
       "0  32.0    Male  Bachelor's  Software Engineer               5.0   90000.0   \n",
       "1  28.0  Female    Master's       Data Analyst               3.0   65000.0   \n",
       "2  45.0    Male         PhD     Senior Manager              15.0  150000.0   \n",
       "3  36.0  Female  Bachelor's    Sales Associate               7.0   60000.0   \n",
       "4  52.0    Male    Master's           Director              20.0  200000.0   \n",
       "\n",
       "   Gender_Encode  Degree_Encode  Job_Title_Encode  \n",
       "0              1              0               159  \n",
       "1              0              1                17  \n",
       "2              1              2               130  \n",
       "3              0              0               101  \n",
       "4              1              1                22  "
      ]
     },
     "execution_count": 46,
     "metadata": {},
     "output_type": "execute_result"
    }
   ],
   "source": [
    "sal_data1.head()"
   ]
  },
  {
   "cell_type": "code",
   "execution_count": 47,
   "id": "acfaed0c-f75f-42e6-89aa-6ab5aea7d96a",
   "metadata": {},
   "outputs": [],
   "source": [
    "from sklearn.preprocessing import StandardScaler\n",
    "std_scaler = StandardScaler()"
   ]
  },
  {
   "cell_type": "code",
   "execution_count": 49,
   "id": "96485c9e-219a-4bfb-9e19-468f2a460ba7",
   "metadata": {},
   "outputs": [
    {
     "name": "stderr",
     "output_type": "stream",
     "text": [
      "C:\\Users\\ASUS\\AppData\\Local\\Temp\\ipykernel_17796\\2823734138.py:1: SettingWithCopyWarning: \n",
      "A value is trying to be set on a copy of a slice from a DataFrame.\n",
      "Try using .loc[row_indexer,col_indexer] = value instead\n",
      "\n",
      "See the caveats in the documentation: https://pandas.pydata.org/pandas-docs/stable/user_guide/indexing.html#returning-a-view-versus-a-copy\n",
      "  sal_data1['Age_scaled'] = std_scaler.fit_transform(sal_data1[['Age']])\n",
      "C:\\Users\\ASUS\\AppData\\Local\\Temp\\ipykernel_17796\\2823734138.py:2: SettingWithCopyWarning: \n",
      "A value is trying to be set on a copy of a slice from a DataFrame.\n",
      "Try using .loc[row_indexer,col_indexer] = value instead\n",
      "\n",
      "See the caveats in the documentation: https://pandas.pydata.org/pandas-docs/stable/user_guide/indexing.html#returning-a-view-versus-a-copy\n",
      "  sal_data1['Experience_years_scaled'] = std_scaler.fit_transform(sal_data1[['Experience_years']])\n"
     ]
    }
   ],
   "source": [
    "sal_data1['Age_scaled'] = std_scaler.fit_transform(sal_data1[['Age']])\n",
    "sal_data1['Experience_years_scaled'] = std_scaler.fit_transform(sal_data1[['Experience_years']])"
   ]
  },
  {
   "cell_type": "code",
   "execution_count": 50,
   "id": "98e11d5f-935b-468b-a2b9-f25282569c8e",
   "metadata": {},
   "outputs": [
    {
     "data": {
      "text/html": [
       "<div>\n",
       "<style scoped>\n",
       "    .dataframe tbody tr th:only-of-type {\n",
       "        vertical-align: middle;\n",
       "    }\n",
       "\n",
       "    .dataframe tbody tr th {\n",
       "        vertical-align: top;\n",
       "    }\n",
       "\n",
       "    .dataframe thead th {\n",
       "        text-align: right;\n",
       "    }\n",
       "</style>\n",
       "<table border=\"1\" class=\"dataframe\">\n",
       "  <thead>\n",
       "    <tr style=\"text-align: right;\">\n",
       "      <th></th>\n",
       "      <th>Age</th>\n",
       "      <th>Gender</th>\n",
       "      <th>Degree</th>\n",
       "      <th>Job_Title</th>\n",
       "      <th>Experience_years</th>\n",
       "      <th>Salary</th>\n",
       "      <th>Gender_Encode</th>\n",
       "      <th>Degree_Encode</th>\n",
       "      <th>Job_Title_Encode</th>\n",
       "      <th>Age_scaled</th>\n",
       "      <th>Experience_years_scaled</th>\n",
       "    </tr>\n",
       "  </thead>\n",
       "  <tbody>\n",
       "    <tr>\n",
       "      <th>0</th>\n",
       "      <td>32.0</td>\n",
       "      <td>Male</td>\n",
       "      <td>Bachelor's</td>\n",
       "      <td>Software Engineer</td>\n",
       "      <td>5.0</td>\n",
       "      <td>90000.0</td>\n",
       "      <td>1</td>\n",
       "      <td>0</td>\n",
       "      <td>159</td>\n",
       "      <td>-0.750231</td>\n",
       "      <td>-0.761821</td>\n",
       "    </tr>\n",
       "    <tr>\n",
       "      <th>1</th>\n",
       "      <td>28.0</td>\n",
       "      <td>Female</td>\n",
       "      <td>Master's</td>\n",
       "      <td>Data Analyst</td>\n",
       "      <td>3.0</td>\n",
       "      <td>65000.0</td>\n",
       "      <td>0</td>\n",
       "      <td>1</td>\n",
       "      <td>17</td>\n",
       "      <td>-1.307742</td>\n",
       "      <td>-1.063017</td>\n",
       "    </tr>\n",
       "    <tr>\n",
       "      <th>2</th>\n",
       "      <td>45.0</td>\n",
       "      <td>Male</td>\n",
       "      <td>PhD</td>\n",
       "      <td>Senior Manager</td>\n",
       "      <td>15.0</td>\n",
       "      <td>150000.0</td>\n",
       "      <td>1</td>\n",
       "      <td>2</td>\n",
       "      <td>130</td>\n",
       "      <td>1.061680</td>\n",
       "      <td>0.744158</td>\n",
       "    </tr>\n",
       "    <tr>\n",
       "      <th>3</th>\n",
       "      <td>36.0</td>\n",
       "      <td>Female</td>\n",
       "      <td>Bachelor's</td>\n",
       "      <td>Sales Associate</td>\n",
       "      <td>7.0</td>\n",
       "      <td>60000.0</td>\n",
       "      <td>0</td>\n",
       "      <td>0</td>\n",
       "      <td>101</td>\n",
       "      <td>-0.192720</td>\n",
       "      <td>-0.460625</td>\n",
       "    </tr>\n",
       "    <tr>\n",
       "      <th>4</th>\n",
       "      <td>52.0</td>\n",
       "      <td>Male</td>\n",
       "      <td>Master's</td>\n",
       "      <td>Director</td>\n",
       "      <td>20.0</td>\n",
       "      <td>200000.0</td>\n",
       "      <td>1</td>\n",
       "      <td>1</td>\n",
       "      <td>22</td>\n",
       "      <td>2.037324</td>\n",
       "      <td>1.497148</td>\n",
       "    </tr>\n",
       "  </tbody>\n",
       "</table>\n",
       "</div>"
      ],
      "text/plain": [
       "    Age  Gender      Degree          Job_Title  Experience_years    Salary  \\\n",
       "0  32.0    Male  Bachelor's  Software Engineer               5.0   90000.0   \n",
       "1  28.0  Female    Master's       Data Analyst               3.0   65000.0   \n",
       "2  45.0    Male         PhD     Senior Manager              15.0  150000.0   \n",
       "3  36.0  Female  Bachelor's    Sales Associate               7.0   60000.0   \n",
       "4  52.0    Male    Master's           Director              20.0  200000.0   \n",
       "\n",
       "   Gender_Encode  Degree_Encode  Job_Title_Encode  Age_scaled  \\\n",
       "0              1              0               159   -0.750231   \n",
       "1              0              1                17   -1.307742   \n",
       "2              1              2               130    1.061680   \n",
       "3              0              0               101   -0.192720   \n",
       "4              1              1                22    2.037324   \n",
       "\n",
       "   Experience_years_scaled  \n",
       "0                -0.761821  \n",
       "1                -1.063017  \n",
       "2                 0.744158  \n",
       "3                -0.460625  \n",
       "4                 1.497148  "
      ]
     },
     "execution_count": 50,
     "metadata": {},
     "output_type": "execute_result"
    }
   ],
   "source": [
    "sal_data1.head()"
   ]
  },
  {
   "cell_type": "code",
   "execution_count": 56,
   "id": "734d5bcc-d79b-44da-bf84-58e46abd2586",
   "metadata": {},
   "outputs": [],
   "source": [
    "X = sal_data1[['Age_scaled','Gender_Encode','Degree_Encode','Job_Title_Encode','Experience_years_scaled']]\n",
    "y = sal_data1['Salary']"
   ]
  },
  {
   "cell_type": "code",
   "execution_count": 57,
   "id": "017699da-1a37-42fd-beea-6b280487890f",
   "metadata": {},
   "outputs": [
    {
     "data": {
      "text/html": [
       "<div>\n",
       "<style scoped>\n",
       "    .dataframe tbody tr th:only-of-type {\n",
       "        vertical-align: middle;\n",
       "    }\n",
       "\n",
       "    .dataframe tbody tr th {\n",
       "        vertical-align: top;\n",
       "    }\n",
       "\n",
       "    .dataframe thead th {\n",
       "        text-align: right;\n",
       "    }\n",
       "</style>\n",
       "<table border=\"1\" class=\"dataframe\">\n",
       "  <thead>\n",
       "    <tr style=\"text-align: right;\">\n",
       "      <th></th>\n",
       "      <th>Age_scaled</th>\n",
       "      <th>Gender_Encode</th>\n",
       "      <th>Degree_Encode</th>\n",
       "      <th>Job_Title_Encode</th>\n",
       "      <th>Experience_years_scaled</th>\n",
       "    </tr>\n",
       "  </thead>\n",
       "  <tbody>\n",
       "    <tr>\n",
       "      <th>0</th>\n",
       "      <td>-0.750231</td>\n",
       "      <td>1</td>\n",
       "      <td>0</td>\n",
       "      <td>159</td>\n",
       "      <td>-0.761821</td>\n",
       "    </tr>\n",
       "    <tr>\n",
       "      <th>1</th>\n",
       "      <td>-1.307742</td>\n",
       "      <td>0</td>\n",
       "      <td>1</td>\n",
       "      <td>17</td>\n",
       "      <td>-1.063017</td>\n",
       "    </tr>\n",
       "    <tr>\n",
       "      <th>2</th>\n",
       "      <td>1.061680</td>\n",
       "      <td>1</td>\n",
       "      <td>2</td>\n",
       "      <td>130</td>\n",
       "      <td>0.744158</td>\n",
       "    </tr>\n",
       "    <tr>\n",
       "      <th>3</th>\n",
       "      <td>-0.192720</td>\n",
       "      <td>0</td>\n",
       "      <td>0</td>\n",
       "      <td>101</td>\n",
       "      <td>-0.460625</td>\n",
       "    </tr>\n",
       "    <tr>\n",
       "      <th>4</th>\n",
       "      <td>2.037324</td>\n",
       "      <td>1</td>\n",
       "      <td>1</td>\n",
       "      <td>22</td>\n",
       "      <td>1.497148</td>\n",
       "    </tr>\n",
       "  </tbody>\n",
       "</table>\n",
       "</div>"
      ],
      "text/plain": [
       "   Age_scaled  Gender_Encode  Degree_Encode  Job_Title_Encode  \\\n",
       "0   -0.750231              1              0               159   \n",
       "1   -1.307742              0              1                17   \n",
       "2    1.061680              1              2               130   \n",
       "3   -0.192720              0              0               101   \n",
       "4    2.037324              1              1                22   \n",
       "\n",
       "   Experience_years_scaled  \n",
       "0                -0.761821  \n",
       "1                -1.063017  \n",
       "2                 0.744158  \n",
       "3                -0.460625  \n",
       "4                 1.497148  "
      ]
     },
     "execution_count": 57,
     "metadata": {},
     "output_type": "execute_result"
    }
   ],
   "source": [
    "X.head()"
   ]
  },
  {
   "cell_type": "code",
   "execution_count": 58,
   "id": "e9f398d7-aa29-4f34-a43a-a6fc2e7aa54a",
   "metadata": {},
   "outputs": [],
   "source": [
    "from sklearn.model_selection import train_test_split"
   ]
  },
  {
   "cell_type": "code",
   "execution_count": 59,
   "id": "10967360-46a6-4402-a0f1-d1643b4c0901",
   "metadata": {},
   "outputs": [],
   "source": [
    "x_train,x_test,y_train,y_test = train_test_split(X, y, test_size=0.2, random_state=42)"
   ]
  },
  {
   "cell_type": "code",
   "execution_count": 68,
   "id": "2184f0cf-d473-48db-aa58-f849e1830748",
   "metadata": {},
   "outputs": [
    {
     "data": {
      "text/plain": [
       "((259, 5), (259,))"
      ]
     },
     "execution_count": 68,
     "metadata": {},
     "output_type": "execute_result"
    }
   ],
   "source": [
    "x_train.shape, y_train.shape # 80%"
   ]
  },
  {
   "cell_type": "code",
   "execution_count": 69,
   "id": "194a3e5d-3b4c-4441-9ef2-fca8b25a2a09",
   "metadata": {},
   "outputs": [
    {
     "data": {
      "text/plain": [
       "((65, 5), (65,))"
      ]
     },
     "execution_count": 69,
     "metadata": {},
     "output_type": "execute_result"
    }
   ],
   "source": [
    "x_test.shape, y_test.shape #20%"
   ]
  },
  {
   "cell_type": "code",
   "execution_count": 95,
   "id": "453b693f-a46d-47b2-9ebb-031a8c814e99",
   "metadata": {},
   "outputs": [],
   "source": [
    "from sklearn.linear_model import LinearRegression"
   ]
  },
  {
   "cell_type": "code",
   "execution_count": 96,
   "id": "bae88a87-fefe-4ae9-9362-2fb64c3b5f6b",
   "metadata": {},
   "outputs": [],
   "source": [
    "Linear_regeression_model = LinearRegression()"
   ]
  },
  {
   "cell_type": "code",
   "execution_count": 97,
   "id": "f76a6c22-cd06-4ad9-a2f6-57c1160b7c58",
   "metadata": {},
   "outputs": [
    {
     "data": {
      "text/html": [
       "<style>#sk-container-id-3 {\n",
       "  /* Definition of color scheme common for light and dark mode */\n",
       "  --sklearn-color-text: #000;\n",
       "  --sklearn-color-text-muted: #666;\n",
       "  --sklearn-color-line: gray;\n",
       "  /* Definition of color scheme for unfitted estimators */\n",
       "  --sklearn-color-unfitted-level-0: #fff5e6;\n",
       "  --sklearn-color-unfitted-level-1: #f6e4d2;\n",
       "  --sklearn-color-unfitted-level-2: #ffe0b3;\n",
       "  --sklearn-color-unfitted-level-3: chocolate;\n",
       "  /* Definition of color scheme for fitted estimators */\n",
       "  --sklearn-color-fitted-level-0: #f0f8ff;\n",
       "  --sklearn-color-fitted-level-1: #d4ebff;\n",
       "  --sklearn-color-fitted-level-2: #b3dbfd;\n",
       "  --sklearn-color-fitted-level-3: cornflowerblue;\n",
       "\n",
       "  /* Specific color for light theme */\n",
       "  --sklearn-color-text-on-default-background: var(--sg-text-color, var(--theme-code-foreground, var(--jp-content-font-color1, black)));\n",
       "  --sklearn-color-background: var(--sg-background-color, var(--theme-background, var(--jp-layout-color0, white)));\n",
       "  --sklearn-color-border-box: var(--sg-text-color, var(--theme-code-foreground, var(--jp-content-font-color1, black)));\n",
       "  --sklearn-color-icon: #696969;\n",
       "\n",
       "  @media (prefers-color-scheme: dark) {\n",
       "    /* Redefinition of color scheme for dark theme */\n",
       "    --sklearn-color-text-on-default-background: var(--sg-text-color, var(--theme-code-foreground, var(--jp-content-font-color1, white)));\n",
       "    --sklearn-color-background: var(--sg-background-color, var(--theme-background, var(--jp-layout-color0, #111)));\n",
       "    --sklearn-color-border-box: var(--sg-text-color, var(--theme-code-foreground, var(--jp-content-font-color1, white)));\n",
       "    --sklearn-color-icon: #878787;\n",
       "  }\n",
       "}\n",
       "\n",
       "#sk-container-id-3 {\n",
       "  color: var(--sklearn-color-text);\n",
       "}\n",
       "\n",
       "#sk-container-id-3 pre {\n",
       "  padding: 0;\n",
       "}\n",
       "\n",
       "#sk-container-id-3 input.sk-hidden--visually {\n",
       "  border: 0;\n",
       "  clip: rect(1px 1px 1px 1px);\n",
       "  clip: rect(1px, 1px, 1px, 1px);\n",
       "  height: 1px;\n",
       "  margin: -1px;\n",
       "  overflow: hidden;\n",
       "  padding: 0;\n",
       "  position: absolute;\n",
       "  width: 1px;\n",
       "}\n",
       "\n",
       "#sk-container-id-3 div.sk-dashed-wrapped {\n",
       "  border: 1px dashed var(--sklearn-color-line);\n",
       "  margin: 0 0.4em 0.5em 0.4em;\n",
       "  box-sizing: border-box;\n",
       "  padding-bottom: 0.4em;\n",
       "  background-color: var(--sklearn-color-background);\n",
       "}\n",
       "\n",
       "#sk-container-id-3 div.sk-container {\n",
       "  /* jupyter's `normalize.less` sets `[hidden] { display: none; }`\n",
       "     but bootstrap.min.css set `[hidden] { display: none !important; }`\n",
       "     so we also need the `!important` here to be able to override the\n",
       "     default hidden behavior on the sphinx rendered scikit-learn.org.\n",
       "     See: https://github.com/scikit-learn/scikit-learn/issues/21755 */\n",
       "  display: inline-block !important;\n",
       "  position: relative;\n",
       "}\n",
       "\n",
       "#sk-container-id-3 div.sk-text-repr-fallback {\n",
       "  display: none;\n",
       "}\n",
       "\n",
       "div.sk-parallel-item,\n",
       "div.sk-serial,\n",
       "div.sk-item {\n",
       "  /* draw centered vertical line to link estimators */\n",
       "  background-image: linear-gradient(var(--sklearn-color-text-on-default-background), var(--sklearn-color-text-on-default-background));\n",
       "  background-size: 2px 100%;\n",
       "  background-repeat: no-repeat;\n",
       "  background-position: center center;\n",
       "}\n",
       "\n",
       "/* Parallel-specific style estimator block */\n",
       "\n",
       "#sk-container-id-3 div.sk-parallel-item::after {\n",
       "  content: \"\";\n",
       "  width: 100%;\n",
       "  border-bottom: 2px solid var(--sklearn-color-text-on-default-background);\n",
       "  flex-grow: 1;\n",
       "}\n",
       "\n",
       "#sk-container-id-3 div.sk-parallel {\n",
       "  display: flex;\n",
       "  align-items: stretch;\n",
       "  justify-content: center;\n",
       "  background-color: var(--sklearn-color-background);\n",
       "  position: relative;\n",
       "}\n",
       "\n",
       "#sk-container-id-3 div.sk-parallel-item {\n",
       "  display: flex;\n",
       "  flex-direction: column;\n",
       "}\n",
       "\n",
       "#sk-container-id-3 div.sk-parallel-item:first-child::after {\n",
       "  align-self: flex-end;\n",
       "  width: 50%;\n",
       "}\n",
       "\n",
       "#sk-container-id-3 div.sk-parallel-item:last-child::after {\n",
       "  align-self: flex-start;\n",
       "  width: 50%;\n",
       "}\n",
       "\n",
       "#sk-container-id-3 div.sk-parallel-item:only-child::after {\n",
       "  width: 0;\n",
       "}\n",
       "\n",
       "/* Serial-specific style estimator block */\n",
       "\n",
       "#sk-container-id-3 div.sk-serial {\n",
       "  display: flex;\n",
       "  flex-direction: column;\n",
       "  align-items: center;\n",
       "  background-color: var(--sklearn-color-background);\n",
       "  padding-right: 1em;\n",
       "  padding-left: 1em;\n",
       "}\n",
       "\n",
       "\n",
       "/* Toggleable style: style used for estimator/Pipeline/ColumnTransformer box that is\n",
       "clickable and can be expanded/collapsed.\n",
       "- Pipeline and ColumnTransformer use this feature and define the default style\n",
       "- Estimators will overwrite some part of the style using the `sk-estimator` class\n",
       "*/\n",
       "\n",
       "/* Pipeline and ColumnTransformer style (default) */\n",
       "\n",
       "#sk-container-id-3 div.sk-toggleable {\n",
       "  /* Default theme specific background. It is overwritten whether we have a\n",
       "  specific estimator or a Pipeline/ColumnTransformer */\n",
       "  background-color: var(--sklearn-color-background);\n",
       "}\n",
       "\n",
       "/* Toggleable label */\n",
       "#sk-container-id-3 label.sk-toggleable__label {\n",
       "  cursor: pointer;\n",
       "  display: flex;\n",
       "  width: 100%;\n",
       "  margin-bottom: 0;\n",
       "  padding: 0.5em;\n",
       "  box-sizing: border-box;\n",
       "  text-align: center;\n",
       "  align-items: start;\n",
       "  justify-content: space-between;\n",
       "  gap: 0.5em;\n",
       "}\n",
       "\n",
       "#sk-container-id-3 label.sk-toggleable__label .caption {\n",
       "  font-size: 0.6rem;\n",
       "  font-weight: lighter;\n",
       "  color: var(--sklearn-color-text-muted);\n",
       "}\n",
       "\n",
       "#sk-container-id-3 label.sk-toggleable__label-arrow:before {\n",
       "  /* Arrow on the left of the label */\n",
       "  content: \"▸\";\n",
       "  float: left;\n",
       "  margin-right: 0.25em;\n",
       "  color: var(--sklearn-color-icon);\n",
       "}\n",
       "\n",
       "#sk-container-id-3 label.sk-toggleable__label-arrow:hover:before {\n",
       "  color: var(--sklearn-color-text);\n",
       "}\n",
       "\n",
       "/* Toggleable content - dropdown */\n",
       "\n",
       "#sk-container-id-3 div.sk-toggleable__content {\n",
       "  max-height: 0;\n",
       "  max-width: 0;\n",
       "  overflow: hidden;\n",
       "  text-align: left;\n",
       "  /* unfitted */\n",
       "  background-color: var(--sklearn-color-unfitted-level-0);\n",
       "}\n",
       "\n",
       "#sk-container-id-3 div.sk-toggleable__content.fitted {\n",
       "  /* fitted */\n",
       "  background-color: var(--sklearn-color-fitted-level-0);\n",
       "}\n",
       "\n",
       "#sk-container-id-3 div.sk-toggleable__content pre {\n",
       "  margin: 0.2em;\n",
       "  border-radius: 0.25em;\n",
       "  color: var(--sklearn-color-text);\n",
       "  /* unfitted */\n",
       "  background-color: var(--sklearn-color-unfitted-level-0);\n",
       "}\n",
       "\n",
       "#sk-container-id-3 div.sk-toggleable__content.fitted pre {\n",
       "  /* unfitted */\n",
       "  background-color: var(--sklearn-color-fitted-level-0);\n",
       "}\n",
       "\n",
       "#sk-container-id-3 input.sk-toggleable__control:checked~div.sk-toggleable__content {\n",
       "  /* Expand drop-down */\n",
       "  max-height: 200px;\n",
       "  max-width: 100%;\n",
       "  overflow: auto;\n",
       "}\n",
       "\n",
       "#sk-container-id-3 input.sk-toggleable__control:checked~label.sk-toggleable__label-arrow:before {\n",
       "  content: \"▾\";\n",
       "}\n",
       "\n",
       "/* Pipeline/ColumnTransformer-specific style */\n",
       "\n",
       "#sk-container-id-3 div.sk-label input.sk-toggleable__control:checked~label.sk-toggleable__label {\n",
       "  color: var(--sklearn-color-text);\n",
       "  background-color: var(--sklearn-color-unfitted-level-2);\n",
       "}\n",
       "\n",
       "#sk-container-id-3 div.sk-label.fitted input.sk-toggleable__control:checked~label.sk-toggleable__label {\n",
       "  background-color: var(--sklearn-color-fitted-level-2);\n",
       "}\n",
       "\n",
       "/* Estimator-specific style */\n",
       "\n",
       "/* Colorize estimator box */\n",
       "#sk-container-id-3 div.sk-estimator input.sk-toggleable__control:checked~label.sk-toggleable__label {\n",
       "  /* unfitted */\n",
       "  background-color: var(--sklearn-color-unfitted-level-2);\n",
       "}\n",
       "\n",
       "#sk-container-id-3 div.sk-estimator.fitted input.sk-toggleable__control:checked~label.sk-toggleable__label {\n",
       "  /* fitted */\n",
       "  background-color: var(--sklearn-color-fitted-level-2);\n",
       "}\n",
       "\n",
       "#sk-container-id-3 div.sk-label label.sk-toggleable__label,\n",
       "#sk-container-id-3 div.sk-label label {\n",
       "  /* The background is the default theme color */\n",
       "  color: var(--sklearn-color-text-on-default-background);\n",
       "}\n",
       "\n",
       "/* On hover, darken the color of the background */\n",
       "#sk-container-id-3 div.sk-label:hover label.sk-toggleable__label {\n",
       "  color: var(--sklearn-color-text);\n",
       "  background-color: var(--sklearn-color-unfitted-level-2);\n",
       "}\n",
       "\n",
       "/* Label box, darken color on hover, fitted */\n",
       "#sk-container-id-3 div.sk-label.fitted:hover label.sk-toggleable__label.fitted {\n",
       "  color: var(--sklearn-color-text);\n",
       "  background-color: var(--sklearn-color-fitted-level-2);\n",
       "}\n",
       "\n",
       "/* Estimator label */\n",
       "\n",
       "#sk-container-id-3 div.sk-label label {\n",
       "  font-family: monospace;\n",
       "  font-weight: bold;\n",
       "  display: inline-block;\n",
       "  line-height: 1.2em;\n",
       "}\n",
       "\n",
       "#sk-container-id-3 div.sk-label-container {\n",
       "  text-align: center;\n",
       "}\n",
       "\n",
       "/* Estimator-specific */\n",
       "#sk-container-id-3 div.sk-estimator {\n",
       "  font-family: monospace;\n",
       "  border: 1px dotted var(--sklearn-color-border-box);\n",
       "  border-radius: 0.25em;\n",
       "  box-sizing: border-box;\n",
       "  margin-bottom: 0.5em;\n",
       "  /* unfitted */\n",
       "  background-color: var(--sklearn-color-unfitted-level-0);\n",
       "}\n",
       "\n",
       "#sk-container-id-3 div.sk-estimator.fitted {\n",
       "  /* fitted */\n",
       "  background-color: var(--sklearn-color-fitted-level-0);\n",
       "}\n",
       "\n",
       "/* on hover */\n",
       "#sk-container-id-3 div.sk-estimator:hover {\n",
       "  /* unfitted */\n",
       "  background-color: var(--sklearn-color-unfitted-level-2);\n",
       "}\n",
       "\n",
       "#sk-container-id-3 div.sk-estimator.fitted:hover {\n",
       "  /* fitted */\n",
       "  background-color: var(--sklearn-color-fitted-level-2);\n",
       "}\n",
       "\n",
       "/* Specification for estimator info (e.g. \"i\" and \"?\") */\n",
       "\n",
       "/* Common style for \"i\" and \"?\" */\n",
       "\n",
       ".sk-estimator-doc-link,\n",
       "a:link.sk-estimator-doc-link,\n",
       "a:visited.sk-estimator-doc-link {\n",
       "  float: right;\n",
       "  font-size: smaller;\n",
       "  line-height: 1em;\n",
       "  font-family: monospace;\n",
       "  background-color: var(--sklearn-color-background);\n",
       "  border-radius: 1em;\n",
       "  height: 1em;\n",
       "  width: 1em;\n",
       "  text-decoration: none !important;\n",
       "  margin-left: 0.5em;\n",
       "  text-align: center;\n",
       "  /* unfitted */\n",
       "  border: var(--sklearn-color-unfitted-level-1) 1pt solid;\n",
       "  color: var(--sklearn-color-unfitted-level-1);\n",
       "}\n",
       "\n",
       ".sk-estimator-doc-link.fitted,\n",
       "a:link.sk-estimator-doc-link.fitted,\n",
       "a:visited.sk-estimator-doc-link.fitted {\n",
       "  /* fitted */\n",
       "  border: var(--sklearn-color-fitted-level-1) 1pt solid;\n",
       "  color: var(--sklearn-color-fitted-level-1);\n",
       "}\n",
       "\n",
       "/* On hover */\n",
       "div.sk-estimator:hover .sk-estimator-doc-link:hover,\n",
       ".sk-estimator-doc-link:hover,\n",
       "div.sk-label-container:hover .sk-estimator-doc-link:hover,\n",
       ".sk-estimator-doc-link:hover {\n",
       "  /* unfitted */\n",
       "  background-color: var(--sklearn-color-unfitted-level-3);\n",
       "  color: var(--sklearn-color-background);\n",
       "  text-decoration: none;\n",
       "}\n",
       "\n",
       "div.sk-estimator.fitted:hover .sk-estimator-doc-link.fitted:hover,\n",
       ".sk-estimator-doc-link.fitted:hover,\n",
       "div.sk-label-container:hover .sk-estimator-doc-link.fitted:hover,\n",
       ".sk-estimator-doc-link.fitted:hover {\n",
       "  /* fitted */\n",
       "  background-color: var(--sklearn-color-fitted-level-3);\n",
       "  color: var(--sklearn-color-background);\n",
       "  text-decoration: none;\n",
       "}\n",
       "\n",
       "/* Span, style for the box shown on hovering the info icon */\n",
       ".sk-estimator-doc-link span {\n",
       "  display: none;\n",
       "  z-index: 9999;\n",
       "  position: relative;\n",
       "  font-weight: normal;\n",
       "  right: .2ex;\n",
       "  padding: .5ex;\n",
       "  margin: .5ex;\n",
       "  width: min-content;\n",
       "  min-width: 20ex;\n",
       "  max-width: 50ex;\n",
       "  color: var(--sklearn-color-text);\n",
       "  box-shadow: 2pt 2pt 4pt #999;\n",
       "  /* unfitted */\n",
       "  background: var(--sklearn-color-unfitted-level-0);\n",
       "  border: .5pt solid var(--sklearn-color-unfitted-level-3);\n",
       "}\n",
       "\n",
       ".sk-estimator-doc-link.fitted span {\n",
       "  /* fitted */\n",
       "  background: var(--sklearn-color-fitted-level-0);\n",
       "  border: var(--sklearn-color-fitted-level-3);\n",
       "}\n",
       "\n",
       ".sk-estimator-doc-link:hover span {\n",
       "  display: block;\n",
       "}\n",
       "\n",
       "/* \"?\"-specific style due to the `<a>` HTML tag */\n",
       "\n",
       "#sk-container-id-3 a.estimator_doc_link {\n",
       "  float: right;\n",
       "  font-size: 1rem;\n",
       "  line-height: 1em;\n",
       "  font-family: monospace;\n",
       "  background-color: var(--sklearn-color-background);\n",
       "  border-radius: 1rem;\n",
       "  height: 1rem;\n",
       "  width: 1rem;\n",
       "  text-decoration: none;\n",
       "  /* unfitted */\n",
       "  color: var(--sklearn-color-unfitted-level-1);\n",
       "  border: var(--sklearn-color-unfitted-level-1) 1pt solid;\n",
       "}\n",
       "\n",
       "#sk-container-id-3 a.estimator_doc_link.fitted {\n",
       "  /* fitted */\n",
       "  border: var(--sklearn-color-fitted-level-1) 1pt solid;\n",
       "  color: var(--sklearn-color-fitted-level-1);\n",
       "}\n",
       "\n",
       "/* On hover */\n",
       "#sk-container-id-3 a.estimator_doc_link:hover {\n",
       "  /* unfitted */\n",
       "  background-color: var(--sklearn-color-unfitted-level-3);\n",
       "  color: var(--sklearn-color-background);\n",
       "  text-decoration: none;\n",
       "}\n",
       "\n",
       "#sk-container-id-3 a.estimator_doc_link.fitted:hover {\n",
       "  /* fitted */\n",
       "  background-color: var(--sklearn-color-fitted-level-3);\n",
       "}\n",
       "</style><div id=\"sk-container-id-3\" class=\"sk-top-container\"><div class=\"sk-text-repr-fallback\"><pre>LinearRegression()</pre><b>In a Jupyter environment, please rerun this cell to show the HTML representation or trust the notebook. <br />On GitHub, the HTML representation is unable to render, please try loading this page with nbviewer.org.</b></div><div class=\"sk-container\" hidden><div class=\"sk-item\"><div class=\"sk-estimator fitted sk-toggleable\"><input class=\"sk-toggleable__control sk-hidden--visually\" id=\"sk-estimator-id-3\" type=\"checkbox\" checked><label for=\"sk-estimator-id-3\" class=\"sk-toggleable__label fitted sk-toggleable__label-arrow\"><div><div>LinearRegression</div></div><div><a class=\"sk-estimator-doc-link fitted\" rel=\"noreferrer\" target=\"_blank\" href=\"https://scikit-learn.org/1.6/modules/generated/sklearn.linear_model.LinearRegression.html\">?<span>Documentation for LinearRegression</span></a><span class=\"sk-estimator-doc-link fitted\">i<span>Fitted</span></span></div></label><div class=\"sk-toggleable__content fitted\"><pre>LinearRegression()</pre></div> </div></div></div></div>"
      ],
      "text/plain": [
       "LinearRegression()"
      ]
     },
     "execution_count": 97,
     "metadata": {},
     "output_type": "execute_result"
    }
   ],
   "source": [
    "Linear_regeression_model.fit(x_train, y_train)"
   ]
  },
  {
   "cell_type": "code",
   "execution_count": 98,
   "id": "2604d632-3bb9-41ca-8fb2-43b5655a03a1",
   "metadata": {},
   "outputs": [
    {
     "data": {
      "text/plain": [
       "array([117415.91344602, 125562.80742758,  48965.15386167, 128739.34887988,\n",
       "       106828.49930535,  99654.76748821,  49101.27883652,  57130.71108104,\n",
       "       166333.69009266,  43112.61060113,  40544.18249367, 122553.217185  ,\n",
       "       107631.15450848, 155580.48335296,  83652.23602446, 170890.28450907,\n",
       "        98984.50106226, 109338.33008328,  42267.86835535,  48089.87647812,\n",
       "        75674.93528581,  64499.29874156,  63619.2494321 ,  31543.41552147,\n",
       "       188376.92844437,  90340.76921722, 155285.91529198, 160863.57809872,\n",
       "       185183.73163709,  34741.26224478, 124850.6230462 , 165106.94121635,\n",
       "        87085.00622186, 155425.69514031, 149190.25441885,  45729.74800187,\n",
       "        88475.39474629,  92025.62668073,  97997.32557607,  40411.112659  ,\n",
       "        89995.79796521,  53873.21977084, 108677.48549927,  54590.96778663,\n",
       "        36497.92729223,  48611.85493217, 129193.72126941,  43102.58902589,\n",
       "       162383.16672117,  81874.95829259, 157771.0301154 ,  43984.89040816,\n",
       "        59950.21740617,  94023.81456492,  84929.3880918 ,  60296.00325465,\n",
       "        91816.87952546,  56177.1258728 ,  75243.32853162, 104701.69952733,\n",
       "       117279.78847117,  83396.82187583, 177743.76102871,  72275.14427419,\n",
       "        86307.61361918])"
      ]
     },
     "execution_count": 98,
     "metadata": {},
     "output_type": "execute_result"
    }
   ],
   "source": [
    "y_pred_lr =Linear_regeression_model.predict(x_test)\n",
    "y_pred_lr"
   ]
  },
  {
   "cell_type": "code",
   "execution_count": 74,
   "id": "be697e63-4acf-47f2-98a5-95d8893d0231",
   "metadata": {},
   "outputs": [
    {
     "data": {
      "text/html": [
       "<div>\n",
       "<style scoped>\n",
       "    .dataframe tbody tr th:only-of-type {\n",
       "        vertical-align: middle;\n",
       "    }\n",
       "\n",
       "    .dataframe tbody tr th {\n",
       "        vertical-align: top;\n",
       "    }\n",
       "\n",
       "    .dataframe thead th {\n",
       "        text-align: right;\n",
       "    }\n",
       "</style>\n",
       "<table border=\"1\" class=\"dataframe\">\n",
       "  <thead>\n",
       "    <tr style=\"text-align: right;\">\n",
       "      <th></th>\n",
       "      <th>y_Actual</th>\n",
       "      <th>y_Predicted</th>\n",
       "      <th>Error</th>\n",
       "      <th>abs_error</th>\n",
       "    </tr>\n",
       "  </thead>\n",
       "  <tbody>\n",
       "    <tr>\n",
       "      <th>132</th>\n",
       "      <td>100000.0</td>\n",
       "      <td>117415.913446</td>\n",
       "      <td>-17415.913446</td>\n",
       "      <td>17415.913446</td>\n",
       "    </tr>\n",
       "    <tr>\n",
       "      <th>108</th>\n",
       "      <td>100000.0</td>\n",
       "      <td>125562.807428</td>\n",
       "      <td>-25562.807428</td>\n",
       "      <td>25562.807428</td>\n",
       "    </tr>\n",
       "    <tr>\n",
       "      <th>137</th>\n",
       "      <td>50000.0</td>\n",
       "      <td>48965.153862</td>\n",
       "      <td>1034.846138</td>\n",
       "      <td>1034.846138</td>\n",
       "    </tr>\n",
       "    <tr>\n",
       "      <th>9</th>\n",
       "      <td>110000.0</td>\n",
       "      <td>128739.348880</td>\n",
       "      <td>-18739.348880</td>\n",
       "      <td>18739.348880</td>\n",
       "    </tr>\n",
       "    <tr>\n",
       "      <th>181</th>\n",
       "      <td>105000.0</td>\n",
       "      <td>106828.499305</td>\n",
       "      <td>-1828.499305</td>\n",
       "      <td>1828.499305</td>\n",
       "    </tr>\n",
       "    <tr>\n",
       "      <th>...</th>\n",
       "      <td>...</td>\n",
       "      <td>...</td>\n",
       "      <td>...</td>\n",
       "      <td>...</td>\n",
       "    </tr>\n",
       "    <tr>\n",
       "      <th>104</th>\n",
       "      <td>80000.0</td>\n",
       "      <td>117279.788471</td>\n",
       "      <td>-37279.788471</td>\n",
       "      <td>37279.788471</td>\n",
       "    </tr>\n",
       "    <tr>\n",
       "      <th>233</th>\n",
       "      <td>85000.0</td>\n",
       "      <td>83396.821876</td>\n",
       "      <td>1603.178124</td>\n",
       "      <td>1603.178124</td>\n",
       "    </tr>\n",
       "    <tr>\n",
       "      <th>60</th>\n",
       "      <td>170000.0</td>\n",
       "      <td>177743.761029</td>\n",
       "      <td>-7743.761029</td>\n",
       "      <td>7743.761029</td>\n",
       "    </tr>\n",
       "    <tr>\n",
       "      <th>94</th>\n",
       "      <td>75000.0</td>\n",
       "      <td>72275.144274</td>\n",
       "      <td>2724.855726</td>\n",
       "      <td>2724.855726</td>\n",
       "    </tr>\n",
       "    <tr>\n",
       "      <th>278</th>\n",
       "      <td>95000.0</td>\n",
       "      <td>86307.613619</td>\n",
       "      <td>8692.386381</td>\n",
       "      <td>8692.386381</td>\n",
       "    </tr>\n",
       "  </tbody>\n",
       "</table>\n",
       "<p>65 rows × 4 columns</p>\n",
       "</div>"
      ],
      "text/plain": [
       "     y_Actual    y_Predicted         Error     abs_error\n",
       "132  100000.0  117415.913446 -17415.913446  17415.913446\n",
       "108  100000.0  125562.807428 -25562.807428  25562.807428\n",
       "137   50000.0   48965.153862   1034.846138   1034.846138\n",
       "9    110000.0  128739.348880 -18739.348880  18739.348880\n",
       "181  105000.0  106828.499305  -1828.499305   1828.499305\n",
       "..        ...            ...           ...           ...\n",
       "104   80000.0  117279.788471 -37279.788471  37279.788471\n",
       "233   85000.0   83396.821876   1603.178124   1603.178124\n",
       "60   170000.0  177743.761029  -7743.761029   7743.761029\n",
       "94    75000.0   72275.144274   2724.855726   2724.855726\n",
       "278   95000.0   86307.613619   8692.386381   8692.386381\n",
       "\n",
       "[65 rows x 4 columns]"
      ]
     },
     "execution_count": 74,
     "metadata": {},
     "output_type": "execute_result"
    }
   ],
   "source": [
    "df = pd.DataFrame({'y_Actual' :y_test, 'y_Predicted': y_pred_lr })\n",
    "df['Error'] = df['y_Actual'] - df['y_Predicted']\n",
    "df['abs_error'] = abs(df['Error'])\n",
    "df"
   ]
  },
  {
   "cell_type": "code",
   "execution_count": 99,
   "id": "944e6220-34ed-4c31-b42b-cdc53441bfda",
   "metadata": {},
   "outputs": [
    {
     "data": {
      "text/plain": [
       "np.float64(10570.78640113618)"
      ]
     },
     "execution_count": 99,
     "metadata": {},
     "output_type": "execute_result"
    }
   ],
   "source": [
    "Mean_absolute_Error = df['abs_error'].mean()\n",
    "Mean_absolute_Error"
   ]
  },
  {
   "cell_type": "code",
   "execution_count": 100,
   "id": "637c0d17-a174-4fdc-abf4-e4762398b0b9",
   "metadata": {},
   "outputs": [],
   "source": [
    "from sklearn.metrics import accuracy_score, r2_score\n",
    "from sklearn.metrics import mean_squared_error, mean_absolute_error"
   ]
  },
  {
   "cell_type": "code",
   "execution_count": 80,
   "id": "f8c7fd79-05bb-4352-abd6-7022ce24ee40",
   "metadata": {},
   "outputs": [
    {
     "data": {
      "text/plain": [
       "0.8911231066517088"
      ]
     },
     "execution_count": 80,
     "metadata": {},
     "output_type": "execute_result"
    }
   ],
   "source": [
    "r2_score(y_test, y_pred_lr)"
   ]
  },
  {
   "cell_type": "code",
   "execution_count": 81,
   "id": "abe997d2-5c78-4234-bd63-7cddd030114b",
   "metadata": {},
   "outputs": [
    {
     "name": "stdout",
     "output_type": "stream",
     "text": [
      "Accuracy of the model = 89.11 %\n"
     ]
    }
   ],
   "source": [
    "print(f'Accuracy of the model = {round(r2_score(y_test, y_pred_lr),4)*100} %')"
   ]
  },
  {
   "cell_type": "code",
   "execution_count": 82,
   "id": "80a291b4-e7d9-48d9-8bc9-98df26735ba3",
   "metadata": {},
   "outputs": [
    {
     "data": {
      "text/plain": [
       "10570.79"
      ]
     },
     "execution_count": 82,
     "metadata": {},
     "output_type": "execute_result"
    }
   ],
   "source": [
    "round(mean_absolute_error(y_test, y_pred_lr),2)"
   ]
  },
  {
   "cell_type": "code",
   "execution_count": 83,
   "id": "706ea6e1-0eab-49fa-bd7b-6f972f0b261b",
   "metadata": {},
   "outputs": [
    {
     "name": "stdout",
     "output_type": "stream",
     "text": [
      "Mean Absolute Error = 10570.79\n"
     ]
    }
   ],
   "source": [
    "print(f\"Mean Absolute Error = {round(mean_absolute_error(y_test, y_pred_lr),2)}\")"
   ]
  },
  {
   "cell_type": "code",
   "execution_count": 84,
   "id": "6d878004-fc19-4415-a209-bc3269b25983",
   "metadata": {},
   "outputs": [
    {
     "data": {
      "text/plain": [
       "205754135.72"
      ]
     },
     "execution_count": 84,
     "metadata": {},
     "output_type": "execute_result"
    }
   ],
   "source": [
    "mse = round(mean_squared_error(y_test, y_pred_lr),2)\n",
    "mse"
   ]
  },
  {
   "cell_type": "code",
   "execution_count": 85,
   "id": "bbedb2df-019f-4c0d-8312-f80861eeca9b",
   "metadata": {},
   "outputs": [
    {
     "name": "stdout",
     "output_type": "stream",
     "text": [
      "Mean Squared Error = 205754135.72\n"
     ]
    }
   ],
   "source": [
    "print(f\"Mean Squared Error = {round(mean_squared_error(y_test, y_pred_lr),2)}\")"
   ]
  },
  {
   "cell_type": "code",
   "execution_count": 86,
   "id": "51194e4e-c124-436b-924b-2bfc108f8302",
   "metadata": {},
   "outputs": [
    {
     "name": "stdout",
     "output_type": "stream",
     "text": [
      "Root Mean Squared Error (RMSE) =  14344.132449193294\n"
     ]
    }
   ],
   "source": [
    "print('Root Mean Squared Error (RMSE) = ', mse**(0.5))"
   ]
  },
  {
   "cell_type": "code",
   "execution_count": 101,
   "id": "25da7174-056d-441a-9e9f-e51d6667662a",
   "metadata": {},
   "outputs": [
    {
     "data": {
      "text/plain": [
       "array([2.01818940e+04, 7.38907834e+03, 1.54227359e+04, 1.95769562e+01,\n",
       "       1.92043082e+04])"
      ]
     },
     "execution_count": 101,
     "metadata": {},
     "output_type": "execute_result"
    }
   ],
   "source": [
    "Linear_regeression_model.coef_"
   ]
  },
  {
   "cell_type": "code",
   "execution_count": 102,
   "id": "ac2f9b00-e10e-493e-9f57-6c83f7523928",
   "metadata": {},
   "outputs": [
    {
     "data": {
      "text/plain": [
       "np.float64(86001.4932055321)"
      ]
     },
     "execution_count": 102,
     "metadata": {},
     "output_type": "execute_result"
    }
   ],
   "source": [
    "Linear_regeression_model.intercept_"
   ]
  },
  {
   "cell_type": "code",
   "execution_count": null,
   "id": "da4d9068-4902-41f1-832f-105007b7f0da",
   "metadata": {},
   "outputs": [],
   "source": [
    "sal_data1.head()"
   ]
  },
  {
   "cell_type": "code",
   "execution_count": 106,
   "id": "e275995b-f279-4b20-aee2-027f04e9993f",
   "metadata": {},
   "outputs": [
    {
     "name": "stderr",
     "output_type": "stream",
     "text": [
      "C:\\Users\\ASUS\\anaconda\\Lib\\site-packages\\sklearn\\utils\\validation.py:2739: UserWarning: X does not have valid feature names, but StandardScaler was fitted with feature names\n",
      "  warnings.warn(\n",
      "C:\\Users\\ASUS\\anaconda\\Lib\\site-packages\\sklearn\\utils\\validation.py:2739: UserWarning: X does not have valid feature names, but StandardScaler was fitted with feature names\n",
      "  warnings.warn(\n"
     ]
    }
   ],
   "source": [
    "Age1 = std_scaler.transform([[49]]) #customize predictions\n",
    "Age = 5.86448677\n",
    "Gender = 0\n",
    "Degree = 2\n",
    "Job_Title = 22\n",
    "Experience_years1 = std_scaler.transform([[15]])\n",
    "Experience_years = 0.74415815\n",
    "# Find the Salary = ? "
   ]
  },
  {
   "cell_type": "code",
   "execution_count": 109,
   "id": "1fc84a2d-fd71-432c-98ef-a6dc7b1dd4f6",
   "metadata": {},
   "outputs": [
    {
     "name": "stderr",
     "output_type": "stream",
     "text": [
      "C:\\Users\\ASUS\\anaconda\\Lib\\site-packages\\sklearn\\utils\\validation.py:2739: UserWarning: X does not have valid feature names, but StandardScaler was fitted with feature names\n",
      "  warnings.warn(\n"
     ]
    },
    {
     "data": {
      "text/plain": [
       "np.float64(0.7441581452572275)"
      ]
     },
     "execution_count": 109,
     "metadata": {},
     "output_type": "execute_result"
    }
   ],
   "source": [
    "std_scaler.transform([[15]])[0][0]"
   ]
  },
  {
   "cell_type": "code",
   "execution_count": 110,
   "id": "34211588-9101-40f4-86f3-da4d0786999d",
   "metadata": {},
   "outputs": [
    {
     "name": "stderr",
     "output_type": "stream",
     "text": [
      "C:\\Users\\ASUS\\anaconda\\Lib\\site-packages\\sklearn\\utils\\validation.py:2739: UserWarning: X does not have valid feature names, but LinearRegression was fitted with feature names\n",
      "  warnings.warn(\n"
     ]
    },
    {
     "data": {
      "text/plain": [
       "array([249925.15061728])"
      ]
     },
     "execution_count": 110,
     "metadata": {},
     "output_type": "execute_result"
    }
   ],
   "source": [
    "Emp_Salary = Linear_regeression_model.predict([[Age, Gender, Degree, Job_Title, Experience_years]])\n",
    "Emp_Salary"
   ]
  },
  {
   "cell_type": "code",
   "execution_count": 111,
   "id": "b590b9f0-6a8c-4624-b896-4a3376c66ecf",
   "metadata": {},
   "outputs": [
    {
     "name": "stdout",
     "output_type": "stream",
     "text": [
      "Salary of that Employee with above Attributes =  249925.15061727603\n"
     ]
    }
   ],
   "source": [
    "print(\"Salary of that Employee with above Attributes = \", Emp_Salary[0])"
   ]
  },
  {
   "cell_type": "code",
   "execution_count": 115,
   "id": "2027b7fb-9f78-47c5-8d79-7119d9b0350c",
   "metadata": {},
   "outputs": [
    {
     "data": {
      "text/plain": [
       "['model.pkl']"
      ]
     },
     "execution_count": 115,
     "metadata": {},
     "output_type": "execute_result"
    }
   ],
   "source": [
    "import joblib\n",
    "joblib.dump(Linear_regeression_model, 'model.pkl')"
   ]
  },
  {
   "cell_type": "code",
   "execution_count": 116,
   "id": "b5d201ed-1453-4610-afa1-3e255cbbcca4",
   "metadata": {},
   "outputs": [],
   "source": [
    "model = joblib.load('model.pkl')"
   ]
  },
  {
   "cell_type": "code",
   "execution_count": 117,
   "id": "70973c68-d4a6-4e0a-b025-9bf26b71651f",
   "metadata": {},
   "outputs": [
    {
     "name": "stdout",
     "output_type": "stream",
     "text": [
      "Predicted Salary: 1524559.1200025636\n"
     ]
    },
    {
     "name": "stderr",
     "output_type": "stream",
     "text": [
      "C:\\Users\\ASUS\\anaconda\\Lib\\site-packages\\sklearn\\utils\\validation.py:2739: UserWarning: X does not have valid feature names, but LinearRegression was fitted with feature names\n",
      "  warnings.warn(\n"
     ]
    }
   ],
   "source": [
    "sample_input = [[35, 13, 40, 1, 1]]  # replace with actual values in same order as your training features\n",
    "prediction = model.predict(sample_input)\n",
    "print(\"Predicted Salary:\", prediction[0])"
   ]
  },
  {
   "cell_type": "code",
   "execution_count": 118,
   "id": "573b7720-b4af-4931-9be8-6c63581a6e47",
   "metadata": {},
   "outputs": [
    {
     "name": "stdout",
     "output_type": "stream",
     "text": [
      "Index(['Age_scaled', 'Gender_Encode', 'Degree_Encode', 'Job_Title_Encode',\n",
      "       'Experience_years_scaled'],\n",
      "      dtype='object')\n"
     ]
    }
   ],
   "source": [
    "print(X.columns)"
   ]
  },
  {
   "cell_type": "code",
   "execution_count": 119,
   "id": "79b041a4-04fe-482a-ae6b-9fb7ea2315d9",
   "metadata": {},
   "outputs": [
    {
     "name": "stdout",
     "output_type": "stream",
     "text": [
      "Predicted Salary: 1524559.1200025636\n"
     ]
    },
    {
     "name": "stderr",
     "output_type": "stream",
     "text": [
      "C:\\Users\\ASUS\\anaconda\\Lib\\site-packages\\sklearn\\utils\\validation.py:2739: UserWarning: X does not have valid feature names, but LinearRegression was fitted with feature names\n",
      "  warnings.warn(\n"
     ]
    }
   ],
   "source": [
    "sample_input = [[35, 13, 40, 1, 1]]  # replace with actual values in same order as your training features\n",
    "prediction = model.predict(sample_input)\n",
    "print(\"Predicted Salary:\", prediction[0])"
   ]
  },
  {
   "cell_type": "code",
   "execution_count": 121,
   "id": "a918a4cb-9dfa-4cda-972e-c5679221f45f",
   "metadata": {},
   "outputs": [
    {
     "name": "stdout",
     "output_type": "stream",
     "text": [
      "Predicted Salary: 249834.5991008791\n"
     ]
    },
    {
     "name": "stderr",
     "output_type": "stream",
     "text": [
      "C:\\Users\\ASUS\\anaconda\\Lib\\site-packages\\sklearn\\utils\\validation.py:2739: UserWarning: X does not have valid feature names, but LinearRegression was fitted with feature names\n",
      "  warnings.warn(\n"
     ]
    }
   ],
   "source": [
    "# Custom input values (already scaled and encoded)\n",
    "# Age_scaled = 5.86\n",
    "# Gender_Encode = 0 (Female)\n",
    "# Degree_Encode = 2\n",
    "# Job_Title_Encode = 22\n",
    "# Experience_years_scaled = 0.7441\n",
    "\n",
    "# Predict salary using the custom values\n",
    "custom_features = [[5.86, 0, 2, 22, 0.74415815]]\n",
    "predicted_salary = model.predict(custom_features)\n",
    "\n",
    "print(\"Predicted Salary:\", predicted_salary[0])"
   ]
  },
  {
   "cell_type": "code",
   "execution_count": 21,
   "id": "e98452ec-e472-4ded-a05c-1da11de6f4e0",
   "metadata": {},
   "outputs": [
    {
     "data": {
      "text/plain": [
       "['model.pkl']"
      ]
     },
     "execution_count": 21,
     "metadata": {},
     "output_type": "execute_result"
    }
   ],
   "source": [
    "joblib.dump(model, 'model.pkl')"
   ]
  },
  {
   "cell_type": "code",
   "execution_count": 22,
   "id": "5cbb87f4-202e-4a1c-a648-4f33125f0b73",
   "metadata": {},
   "outputs": [
    {
     "data": {
      "text/plain": [
       "['scaler.pkl']"
      ]
     },
     "execution_count": 22,
     "metadata": {},
     "output_type": "execute_result"
    }
   ],
   "source": [
    "joblib.dump(scaler, 'scaler.pkl')"
   ]
  },
  {
   "cell_type": "code",
   "execution_count": 33,
   "id": "654b78cd-cc3f-4502-a248-5dec0f464f64",
   "metadata": {},
   "outputs": [
    {
     "ename": "KeyError",
     "evalue": "'Education_Level'",
     "output_type": "error",
     "traceback": [
      "\u001b[1;31m---------------------------------------------------------------------------\u001b[0m",
      "\u001b[1;31mKeyError\u001b[0m                                  Traceback (most recent call last)",
      "File \u001b[1;32m~\\anaconda\\Lib\\site-packages\\pandas\\core\\indexes\\base.py:3805\u001b[0m, in \u001b[0;36mIndex.get_loc\u001b[1;34m(self, key)\u001b[0m\n\u001b[0;32m   3804\u001b[0m \u001b[38;5;28;01mtry\u001b[39;00m:\n\u001b[1;32m-> 3805\u001b[0m     \u001b[38;5;28;01mreturn\u001b[39;00m \u001b[38;5;28mself\u001b[39m\u001b[38;5;241m.\u001b[39m_engine\u001b[38;5;241m.\u001b[39mget_loc(casted_key)\n\u001b[0;32m   3806\u001b[0m \u001b[38;5;28;01mexcept\u001b[39;00m \u001b[38;5;167;01mKeyError\u001b[39;00m \u001b[38;5;28;01mas\u001b[39;00m err:\n",
      "File \u001b[1;32mindex.pyx:167\u001b[0m, in \u001b[0;36mpandas._libs.index.IndexEngine.get_loc\u001b[1;34m()\u001b[0m\n",
      "File \u001b[1;32mindex.pyx:196\u001b[0m, in \u001b[0;36mpandas._libs.index.IndexEngine.get_loc\u001b[1;34m()\u001b[0m\n",
      "File \u001b[1;32mpandas\\\\_libs\\\\hashtable_class_helper.pxi:7081\u001b[0m, in \u001b[0;36mpandas._libs.hashtable.PyObjectHashTable.get_item\u001b[1;34m()\u001b[0m\n",
      "File \u001b[1;32mpandas\\\\_libs\\\\hashtable_class_helper.pxi:7089\u001b[0m, in \u001b[0;36mpandas._libs.hashtable.PyObjectHashTable.get_item\u001b[1;34m()\u001b[0m\n",
      "\u001b[1;31mKeyError\u001b[0m: 'Education_Level'",
      "\nThe above exception was the direct cause of the following exception:\n",
      "\u001b[1;31mKeyError\u001b[0m                                  Traceback (most recent call last)",
      "Cell \u001b[1;32mIn[33], line 11\u001b[0m\n\u001b[0;32m      9\u001b[0m \u001b[38;5;66;03m# 2. Manually encode categorical columns as per tutorial\u001b[39;00m\n\u001b[0;32m     10\u001b[0m df[\u001b[38;5;124m'\u001b[39m\u001b[38;5;124mgender_scaled\u001b[39m\u001b[38;5;124m'\u001b[39m] \u001b[38;5;241m=\u001b[39m df[\u001b[38;5;124m'\u001b[39m\u001b[38;5;124mGender\u001b[39m\u001b[38;5;124m'\u001b[39m]\u001b[38;5;241m.\u001b[39mmap({\u001b[38;5;124m'\u001b[39m\u001b[38;5;124mFemale\u001b[39m\u001b[38;5;124m'\u001b[39m: \u001b[38;5;241m0\u001b[39m, \u001b[38;5;124m'\u001b[39m\u001b[38;5;124mMale\u001b[39m\u001b[38;5;124m'\u001b[39m: \u001b[38;5;241m1\u001b[39m})\n\u001b[1;32m---> 11\u001b[0m df[\u001b[38;5;124m'\u001b[39m\u001b[38;5;124mdegree_encode\u001b[39m\u001b[38;5;124m'\u001b[39m] \u001b[38;5;241m=\u001b[39m df[\u001b[38;5;124m'\u001b[39m\u001b[38;5;124mEducation_Level\u001b[39m\u001b[38;5;124m'\u001b[39m]\u001b[38;5;241m.\u001b[39mmap({\u001b[38;5;124m\"\u001b[39m\u001b[38;5;124mBachelors\u001b[39m\u001b[38;5;124m\"\u001b[39m: \u001b[38;5;241m0\u001b[39m, \u001b[38;5;124m\"\u001b[39m\u001b[38;5;124mMasters\u001b[39m\u001b[38;5;124m\"\u001b[39m: \u001b[38;5;241m1\u001b[39m, \u001b[38;5;124m\"\u001b[39m\u001b[38;5;124mPhD\u001b[39m\u001b[38;5;124m\"\u001b[39m: \u001b[38;5;241m2\u001b[39m})\n\u001b[0;32m     12\u001b[0m df[\u001b[38;5;124m'\u001b[39m\u001b[38;5;124mjob_title_encode\u001b[39m\u001b[38;5;124m'\u001b[39m] \u001b[38;5;241m=\u001b[39m df[\u001b[38;5;124m'\u001b[39m\u001b[38;5;124mjob_title\u001b[39m\u001b[38;5;124m'\u001b[39m]\u001b[38;5;241m.\u001b[39mmap({\n\u001b[0;32m     13\u001b[0m     \u001b[38;5;124m\"\u001b[39m\u001b[38;5;124mSoftware Engineer\u001b[39m\u001b[38;5;124m\"\u001b[39m: \u001b[38;5;241m0\u001b[39m, \u001b[38;5;124m\"\u001b[39m\u001b[38;5;124mData Scientist\u001b[39m\u001b[38;5;124m\"\u001b[39m: \u001b[38;5;241m1\u001b[39m, \u001b[38;5;124m\"\u001b[39m\u001b[38;5;124mManager\u001b[39m\u001b[38;5;124m\"\u001b[39m: \u001b[38;5;241m2\u001b[39m, \u001b[38;5;124m\"\u001b[39m\u001b[38;5;124mAnalyst\u001b[39m\u001b[38;5;124m\"\u001b[39m: \u001b[38;5;241m3\u001b[39m\n\u001b[0;32m     14\u001b[0m })\n\u001b[0;32m     16\u001b[0m \u001b[38;5;66;03m# 3. Scale numeric features\u001b[39;00m\n",
      "File \u001b[1;32m~\\anaconda\\Lib\\site-packages\\pandas\\core\\frame.py:4102\u001b[0m, in \u001b[0;36mDataFrame.__getitem__\u001b[1;34m(self, key)\u001b[0m\n\u001b[0;32m   4100\u001b[0m \u001b[38;5;28;01mif\u001b[39;00m \u001b[38;5;28mself\u001b[39m\u001b[38;5;241m.\u001b[39mcolumns\u001b[38;5;241m.\u001b[39mnlevels \u001b[38;5;241m>\u001b[39m \u001b[38;5;241m1\u001b[39m:\n\u001b[0;32m   4101\u001b[0m     \u001b[38;5;28;01mreturn\u001b[39;00m \u001b[38;5;28mself\u001b[39m\u001b[38;5;241m.\u001b[39m_getitem_multilevel(key)\n\u001b[1;32m-> 4102\u001b[0m indexer \u001b[38;5;241m=\u001b[39m \u001b[38;5;28mself\u001b[39m\u001b[38;5;241m.\u001b[39mcolumns\u001b[38;5;241m.\u001b[39mget_loc(key)\n\u001b[0;32m   4103\u001b[0m \u001b[38;5;28;01mif\u001b[39;00m is_integer(indexer):\n\u001b[0;32m   4104\u001b[0m     indexer \u001b[38;5;241m=\u001b[39m [indexer]\n",
      "File \u001b[1;32m~\\anaconda\\Lib\\site-packages\\pandas\\core\\indexes\\base.py:3812\u001b[0m, in \u001b[0;36mIndex.get_loc\u001b[1;34m(self, key)\u001b[0m\n\u001b[0;32m   3807\u001b[0m     \u001b[38;5;28;01mif\u001b[39;00m \u001b[38;5;28misinstance\u001b[39m(casted_key, \u001b[38;5;28mslice\u001b[39m) \u001b[38;5;129;01mor\u001b[39;00m (\n\u001b[0;32m   3808\u001b[0m         \u001b[38;5;28misinstance\u001b[39m(casted_key, abc\u001b[38;5;241m.\u001b[39mIterable)\n\u001b[0;32m   3809\u001b[0m         \u001b[38;5;129;01mand\u001b[39;00m \u001b[38;5;28many\u001b[39m(\u001b[38;5;28misinstance\u001b[39m(x, \u001b[38;5;28mslice\u001b[39m) \u001b[38;5;28;01mfor\u001b[39;00m x \u001b[38;5;129;01min\u001b[39;00m casted_key)\n\u001b[0;32m   3810\u001b[0m     ):\n\u001b[0;32m   3811\u001b[0m         \u001b[38;5;28;01mraise\u001b[39;00m InvalidIndexError(key)\n\u001b[1;32m-> 3812\u001b[0m     \u001b[38;5;28;01mraise\u001b[39;00m \u001b[38;5;167;01mKeyError\u001b[39;00m(key) \u001b[38;5;28;01mfrom\u001b[39;00m\u001b[38;5;250m \u001b[39m\u001b[38;5;21;01merr\u001b[39;00m\n\u001b[0;32m   3813\u001b[0m \u001b[38;5;28;01mexcept\u001b[39;00m \u001b[38;5;167;01mTypeError\u001b[39;00m:\n\u001b[0;32m   3814\u001b[0m     \u001b[38;5;66;03m# If we have a listlike key, _check_indexing_error will raise\u001b[39;00m\n\u001b[0;32m   3815\u001b[0m     \u001b[38;5;66;03m#  InvalidIndexError. Otherwise we fall through and re-raise\u001b[39;00m\n\u001b[0;32m   3816\u001b[0m     \u001b[38;5;66;03m#  the TypeError.\u001b[39;00m\n\u001b[0;32m   3817\u001b[0m     \u001b[38;5;28mself\u001b[39m\u001b[38;5;241m.\u001b[39m_check_indexing_error(key)\n",
      "\u001b[1;31mKeyError\u001b[0m: 'Education_Level'"
     ]
    }
   ],
   "source": [
    "import pandas as pd\n",
    "from sklearn.preprocessing import StandardScaler\n",
    "from sklearn.linear_model import LinearRegression\n",
    "import joblib\n",
    "\n",
    "# 1. Load dataset (same CSV used in the video)\n",
    "df = pd.read_csv(r\"C:\\Users\\ASUS\\OneDrive\\Desktop\\Dataset09-Employee-salary-prediction.csv\")\n",
    "\n",
    "# 2. Manually encode categorical columns as per tutorial\n",
    "df['gender_scaled'] = df['Gender'].map({'Female': 0, 'Male': 1})\n",
    "df['degree_encode'] = df['Education_Level'].map({\"Bachelors\": 0, \"Masters\": 1, \"PhD\": 2})\n",
    "df['job_title_encode'] = df['job_title'].map({\n",
    "    \"Software Engineer\": 0, \"Data Scientist\": 1, \"Manager\": 2, \"Analyst\": 3\n",
    "})\n",
    "\n",
    "# 3. Scale numeric features\n",
    "scaler = StandardScaler()\n",
    "X = df[['age_scaled', 'gender_scaled', 'degree_encode', 'job_title_encode', 'experience_years_scaled']]\n",
    "X_scaled = scaler.fit_transform(X)\n",
    "\n",
    "# 4. Define target as per video\n",
    "y = df['salary']\n",
    "\n",
    "# 5. Train Linear Regression model\n",
    "model = LinearRegression()\n",
    "model.fit(X_scaled, y)\n",
    "\n",
    "# 6. Save model and scaler for later use\n",
    "joblib.dump(model, \"model.pkl\")\n",
    "joblib.dump(scaler, \"scaler.pkl\")\n",
    "\n",
    "print(\"✅ Model and scaler trained & saved successfully!\")"
   ]
  },
  {
   "cell_type": "code",
   "execution_count": 31,
   "id": "1688585f-a54d-4e6e-8a18-5d9fcedaaf42",
   "metadata": {},
   "outputs": [
    {
     "name": "stdout",
     "output_type": "stream",
     "text": [
      "Actual column names:\n",
      "['Age', 'Gender', 'Education Level', 'Job Title', 'Years of Experience', 'Salary']\n",
      "\n",
      "Sample data:\n",
      "    Age  Gender Education Level          Job Title  Years of Experience  \\\n",
      "0  32.0    Male      Bachelor's  Software Engineer                  5.0   \n",
      "1  28.0  Female        Master's       Data Analyst                  3.0   \n",
      "2  45.0    Male             PhD     Senior Manager                 15.0   \n",
      "3  36.0  Female      Bachelor's    Sales Associate                  7.0   \n",
      "4  52.0    Male        Master's           Director                 20.0   \n",
      "\n",
      "     Salary  \n",
      "0   90000.0  \n",
      "1   65000.0  \n",
      "2  150000.0  \n",
      "3   60000.0  \n",
      "4  200000.0  \n"
     ]
    }
   ],
   "source": [
    "import pandas as pd\n",
    "\n",
    "# Load your CSV\n",
    "df = pd.read_csv(r\"C:\\Users\\ASUS\\OneDrive\\Desktop\\Dataset09-Employee-salary-prediction.csv\")\n",
    "\n",
    "# Show actual column names\n",
    "print(\"Actual column names:\")\n",
    "print(df.columns.tolist())\n",
    "\n",
    "# Show first few rows\n",
    "print(\"\\nSample data:\")\n",
    "print(df.head())"
   ]
  },
  {
   "cell_type": "code",
   "execution_count": 37,
   "id": "6e6cd937-8ab2-4ffb-92d4-1c9e3acfab07",
   "metadata": {},
   "outputs": [
    {
     "data": {
      "text/plain": [
       "['columns.pkl']"
      ]
     },
     "execution_count": 37,
     "metadata": {},
     "output_type": "execute_result"
    }
   ],
   "source": [
    "import pandas as pd\n",
    "from sklearn.preprocessing import StandardScaler\n",
    "from sklearn.linear_model import LinearRegression\n",
    "import joblib\n",
    "\n",
    "# Load dataset\n",
    "df = pd.read_csv(r\"C:\\Users\\ASUS\\OneDrive\\Desktop\\Dataset09-Employee-salary-prediction.csv\")\n",
    "\n",
    "# Drop rows with missing values\n",
    "df.dropna(inplace=True)\n",
    "\n",
    "# One-hot encode categorical columns\n",
    "df_encoded = pd.get_dummies(df, columns=['Gender', 'Education Level', 'Job Title'])\n",
    "\n",
    "# Separate features and target\n",
    "X = df_encoded.drop('Salary', axis=1)\n",
    "y = df_encoded['Salary']\n",
    "\n",
    "# Scale features\n",
    "scaler = StandardScaler()\n",
    "X_scaled = scaler.fit_transform(X)\n",
    "\n",
    "# Train model\n",
    "model = LinearRegression()\n",
    "model.fit(X_scaled, y)\n",
    "\n",
    "# Save model, scaler, and column names\n",
    "joblib.dump(model, \"model.pkl\")\n",
    "joblib.dump(scaler, \"scaler.pkl\")\n",
    "joblib.dump(X.columns.tolist(), \"columns.pkl\")  # save column names"
   ]
  },
  {
   "cell_type": "code",
   "execution_count": 38,
   "id": "33bec61a-4294-49e5-89a4-2919cffe2ede",
   "metadata": {},
   "outputs": [
    {
     "name": "stdout",
     "output_type": "stream",
     "text": [
      "Files saved:\n",
      "- model.pkl\n",
      "- scaler.pkl\n",
      "- columns.pkl\n"
     ]
    }
   ],
   "source": [
    "import joblib\n",
    "\n",
    "# Save the model\n",
    "joblib.dump(model, \"model.pkl\")\n",
    "\n",
    "# Save the scaler\n",
    "joblib.dump(scaler, \"scaler.pkl\")\n",
    "\n",
    "# Save the column names\n",
    "joblib.dump(X.columns.tolist(), \"columns.pkl\")\n",
    "\n",
    "# Print confirmation\n",
    "print(\"Files saved:\")\n",
    "print(\"- model.pkl\")\n",
    "print(\"- scaler.pkl\")\n",
    "print(\"- columns.pkl\")"
   ]
  },
  {
   "cell_type": "code",
   "execution_count": 2,
   "id": "95464d29-859b-4556-b6bd-3590184a884e",
   "metadata": {},
   "outputs": [
    {
     "name": "stdout",
     "output_type": "stream",
     "text": [
      "['Age', 'Years of Experience', 'Gender_Female', 'Gender_Male', \"Education Level_Bachelor's\", \"Education Level_Master's\", 'Education Level_PhD', 'Job Title_Account Manager', 'Job Title_Accountant', 'Job Title_Administrative Assistant', 'Job Title_Business Analyst', 'Job Title_Business Development Manager', 'Job Title_Business Intelligence Analyst', 'Job Title_CEO', 'Job Title_Chief Data Officer', 'Job Title_Chief Technology Officer', 'Job Title_Content Marketing Manager', 'Job Title_Copywriter', 'Job Title_Creative Director', 'Job Title_Customer Service Manager', 'Job Title_Customer Service Rep', 'Job Title_Customer Service Representative', 'Job Title_Customer Success Manager', 'Job Title_Customer Success Rep', 'Job Title_Data Analyst', 'Job Title_Data Entry Clerk', 'Job Title_Data Scientist', 'Job Title_Digital Content Producer', 'Job Title_Digital Marketing Manager', 'Job Title_Director', 'Job Title_Director of Business Development', 'Job Title_Director of Engineering', 'Job Title_Director of Finance', 'Job Title_Director of HR', 'Job Title_Director of Human Capital', 'Job Title_Director of Human Resources', 'Job Title_Director of Marketing', 'Job Title_Director of Operations', 'Job Title_Director of Product Management', 'Job Title_Director of Sales', 'Job Title_Director of Sales and Marketing', 'Job Title_Event Coordinator', 'Job Title_Financial Advisor', 'Job Title_Financial Analyst', 'Job Title_Financial Manager', 'Job Title_Graphic Designer', 'Job Title_HR Generalist', 'Job Title_HR Manager', 'Job Title_Help Desk Analyst', 'Job Title_Human Resources Director', 'Job Title_IT Manager', 'Job Title_IT Support', 'Job Title_IT Support Specialist', 'Job Title_Junior Account Manager', 'Job Title_Junior Accountant', 'Job Title_Junior Advertising Coordinator', 'Job Title_Junior Business Analyst', 'Job Title_Junior Business Development Associate', 'Job Title_Junior Business Operations Analyst', 'Job Title_Junior Copywriter', 'Job Title_Junior Customer Support Specialist', 'Job Title_Junior Data Analyst', 'Job Title_Junior Data Scientist', 'Job Title_Junior Designer', 'Job Title_Junior Developer', 'Job Title_Junior Financial Advisor', 'Job Title_Junior Financial Analyst', 'Job Title_Junior HR Coordinator', 'Job Title_Junior HR Generalist', 'Job Title_Junior Marketing Analyst', 'Job Title_Junior Marketing Coordinator', 'Job Title_Junior Marketing Manager', 'Job Title_Junior Marketing Specialist', 'Job Title_Junior Operations Analyst', 'Job Title_Junior Operations Coordinator', 'Job Title_Junior Operations Manager', 'Job Title_Junior Product Manager', 'Job Title_Junior Project Manager', 'Job Title_Junior Recruiter', 'Job Title_Junior Research Scientist', 'Job Title_Junior Sales Representative', 'Job Title_Junior Social Media Manager', 'Job Title_Junior Social Media Specialist', 'Job Title_Junior Software Developer', 'Job Title_Junior Software Engineer', 'Job Title_Junior UX Designer', 'Job Title_Junior Web Designer', 'Job Title_Junior Web Developer', 'Job Title_Marketing Analyst', 'Job Title_Marketing Coordinator', 'Job Title_Marketing Manager', 'Job Title_Marketing Specialist', 'Job Title_Network Engineer', 'Job Title_Office Manager', 'Job Title_Operations Analyst', 'Job Title_Operations Director', 'Job Title_Operations Manager', 'Job Title_Principal Engineer', 'Job Title_Principal Scientist', 'Job Title_Product Designer', 'Job Title_Product Manager', 'Job Title_Product Marketing Manager', 'Job Title_Project Engineer', 'Job Title_Project Manager', 'Job Title_Public Relations Manager', 'Job Title_Recruiter', 'Job Title_Research Director', 'Job Title_Research Scientist', 'Job Title_Sales Associate', 'Job Title_Sales Director', 'Job Title_Sales Executive', 'Job Title_Sales Manager', 'Job Title_Sales Operations Manager', 'Job Title_Sales Representative', 'Job Title_Senior Account Executive', 'Job Title_Senior Account Manager', 'Job Title_Senior Accountant', 'Job Title_Senior Business Analyst', 'Job Title_Senior Business Development Manager', 'Job Title_Senior Consultant', 'Job Title_Senior Data Analyst', 'Job Title_Senior Data Engineer', 'Job Title_Senior Data Scientist', 'Job Title_Senior Engineer', 'Job Title_Senior Financial Advisor', 'Job Title_Senior Financial Analyst', 'Job Title_Senior Financial Manager', 'Job Title_Senior Graphic Designer', 'Job Title_Senior HR Generalist', 'Job Title_Senior HR Manager', 'Job Title_Senior HR Specialist', 'Job Title_Senior Human Resources Coordinator', 'Job Title_Senior Human Resources Manager', 'Job Title_Senior Human Resources Specialist', 'Job Title_Senior IT Consultant', 'Job Title_Senior IT Project Manager', 'Job Title_Senior IT Support Specialist', 'Job Title_Senior Manager', 'Job Title_Senior Marketing Analyst', 'Job Title_Senior Marketing Coordinator', 'Job Title_Senior Marketing Director', 'Job Title_Senior Marketing Manager', 'Job Title_Senior Marketing Specialist', 'Job Title_Senior Operations Analyst', 'Job Title_Senior Operations Coordinator', 'Job Title_Senior Operations Manager', 'Job Title_Senior Product Designer', 'Job Title_Senior Product Development Manager', 'Job Title_Senior Product Manager', 'Job Title_Senior Product Marketing Manager', 'Job Title_Senior Project Coordinator', 'Job Title_Senior Project Manager', 'Job Title_Senior Quality Assurance Analyst', 'Job Title_Senior Research Scientist', 'Job Title_Senior Researcher', 'Job Title_Senior Sales Manager', 'Job Title_Senior Sales Representative', 'Job Title_Senior Scientist', 'Job Title_Senior Software Architect', 'Job Title_Senior Software Developer', 'Job Title_Senior Software Engineer', 'Job Title_Senior Training Specialist', 'Job Title_Senior UX Designer', 'Job Title_Social Media Manager', 'Job Title_Social Media Specialist', 'Job Title_Software Developer', 'Job Title_Software Engineer', 'Job Title_Software Manager', 'Job Title_Software Project Manager', 'Job Title_Strategy Consultant', 'Job Title_Supply Chain Analyst', 'Job Title_Supply Chain Manager', 'Job Title_Technical Recruiter', 'Job Title_Technical Support Specialist', 'Job Title_Technical Writer', 'Job Title_Training Specialist', 'Job Title_UX Designer', 'Job Title_UX Researcher', 'Job Title_VP of Finance', 'Job Title_VP of Operations', 'Job Title_Web Developer']\n"
     ]
    }
   ],
   "source": [
    "import joblib\n",
    "columns = joblib.load(\"columns.pkl\")\n",
    "print(columns)"
   ]
  },
  {
   "cell_type": "code",
   "execution_count": null,
   "id": "d656928a-39a6-413b-8ca1-68cb29c7955d",
   "metadata": {},
   "outputs": [],
   "source": []
  }
 ],
 "metadata": {
  "kernelspec": {
   "display_name": "Python [conda env:base] *",
   "language": "python",
   "name": "conda-base-py"
  },
  "language_info": {
   "codemirror_mode": {
    "name": "ipython",
    "version": 3
   },
   "file_extension": ".py",
   "mimetype": "text/x-python",
   "name": "python",
   "nbconvert_exporter": "python",
   "pygments_lexer": "ipython3",
   "version": "3.13.5"
  }
 },
 "nbformat": 4,
 "nbformat_minor": 5
}
